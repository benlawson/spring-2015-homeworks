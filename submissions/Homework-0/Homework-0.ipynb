{
 "metadata": {
  "name": "",
  "signature": "sha256:d053c6ac9ffaacc793d342ad3fcc279b85e75162643c801c051d5e6146a89861"
 },
 "nbformat": 3,
 "nbformat_minor": 0,
 "worksheets": [
  {
   "cells": [
    {
     "cell_type": "code",
     "collapsed": false,
     "input": [
      "import os\n",
      "error = False\n",
      "\n",
      "if os.path.basename(os.path.realpath('.')) != \"Homework-0\":\n",
      "    print \"The name of the current directory should be 'Homework-0'\"\n",
      "    error = True\n",
      "    \n",
      "if os.path.basename(os.path.realpath('..')) != \"submissions\":\n",
      "    print \"You should be working in the folder 'submissions'\"\n",
      "    error = True\n",
      "    \n",
      "if os.path.basename(os.path.realpath('../..')) != 'spring-2015-homeworks':\n",
      "    print \"You copied the directory under the wrong folder. It should be under 'spring-2015-homeworks'\"\n",
      "    error = True\n",
      "\n",
      "if not error:\n",
      "    print \"You did everything correctly. Congrats!\""
     ],
     "language": "python",
     "metadata": {},
     "outputs": [
      {
       "output_type": "stream",
       "stream": "stdout",
       "text": [
        "You did everything correctly. Congrats!\n"
       ]
      }
     ],
     "prompt_number": 1
    },
    {
     "cell_type": "code",
     "collapsed": false,
     "input": [
      "print \"hi\""
     ],
     "language": "python",
     "metadata": {},
     "outputs": [
      {
       "output_type": "stream",
       "stream": "stdout",
       "text": [
        "hi\n"
       ]
      }
     ],
     "prompt_number": 2
    },
    {
     "cell_type": "code",
     "collapsed": false,
     "input": [
      "def suffix_3(string):\n",
      "    if len(string) > 3: \n",
      "        return string[-3:]\n",
      "    else :\n",
      "        return string"
     ],
     "language": "python",
     "metadata": {},
     "outputs": [],
     "prompt_number": 26
    },
    {
     "cell_type": "code",
     "collapsed": false,
     "input": [
      "print suffix_3(\"Hi!\")"
     ],
     "language": "python",
     "metadata": {},
     "outputs": [
      {
       "output_type": "stream",
       "stream": "stdout",
       "text": [
        "Hi!\n"
       ]
      }
     ],
     "prompt_number": 7
    },
    {
     "cell_type": "code",
     "collapsed": false,
     "input": [
      "print suffix_3(\"Superb\")"
     ],
     "language": "python",
     "metadata": {},
     "outputs": [
      {
       "output_type": "stream",
       "stream": "stdout",
       "text": [
        "erb\n"
       ]
      }
     ],
     "prompt_number": 27
    },
    {
     "cell_type": "code",
     "collapsed": false,
     "input": [
      "import numpy\n",
      "print 'numpy:', numpy.__version__\n",
      "\n",
      "import scipy\n",
      "print 'scipy:', scipy.__version__\n",
      "\n",
      "import matplotlib\n",
      "print 'matplotlib:', matplotlib.__version__\n",
      "\n",
      "import sklearn\n",
      "print 'scikit-learn:', sklearn.__version__\n",
      "\n",
      "import pandas\n",
      "print 'pandas:', pandas.__version__"
     ],
     "language": "python",
     "metadata": {},
     "outputs": [
      {
       "output_type": "stream",
       "stream": "stdout",
       "text": [
        "numpy: 1.9.0\n",
        "scipy:"
       ]
      },
      {
       "output_type": "stream",
       "stream": "stdout",
       "text": [
        " 0.14.0\n",
        "matplotlib:"
       ]
      },
      {
       "output_type": "stream",
       "stream": "stdout",
       "text": [
        " 1.4.0\n",
        "scikit-learn:"
       ]
      },
      {
       "output_type": "stream",
       "stream": "stdout",
       "text": [
        " 0.15.2\n",
        "pandas:"
       ]
      },
      {
       "output_type": "stream",
       "stream": "stdout",
       "text": [
        " 0.14.1\n"
       ]
      }
     ],
     "prompt_number": 23
    },
    {
     "cell_type": "code",
     "collapsed": false,
     "input": [],
     "language": "python",
     "metadata": {},
     "outputs": []
    }
   ],
   "metadata": {}
  }
 ]
}