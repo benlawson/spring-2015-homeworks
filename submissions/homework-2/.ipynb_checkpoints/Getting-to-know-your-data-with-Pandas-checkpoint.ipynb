{
 "metadata": {
  "celltoolbar": "Raw Cell Format",
  "name": "",
  "signature": "sha256:66be69b717b8d9c8d76d772c4cd4dfdf7049f77b22e974559e4664ca75556dfa"
 },
 "nbformat": 3,
 "nbformat_minor": 0,
 "worksheets": [
  {
   "cells": [
    {
     "cell_type": "heading",
     "level": 1,
     "metadata": {},
     "source": [
      "Getting to know your data with Pandas"
     ]
    },
    {
     "cell_type": "heading",
     "level": 2,
     "metadata": {},
     "source": [
      "What is Pandas"
     ]
    },
    {
     "cell_type": "markdown",
     "metadata": {},
     "source": [
      "Pandas is Python Data Analysis Library. Pandas provides an R-like DataFrame, produces high quality plots with matplotlib, and integrates nicely with other libraries that expect NumPy arrays.\n",
      "\n",
      "DataFrame: simlar to a excel spreadsheet. \n"
     ]
    },
    {
     "cell_type": "heading",
     "level": 2,
     "metadata": {},
     "source": [
      "Getting started"
     ]
    },
    {
     "cell_type": "code",
     "collapsed": false,
     "input": [
      "\n",
      "import pandas as pd\n",
      "import pandas.io.data as web\n",
      "from pandas import Series, DataFrame\n",
      "\n",
      "import matplotlib.pyplot as plt\n",
      "import matplotlib as mpl\n",
      "\n",
      "\n",
      "\n",
      "from datetime import datetime\n",
      "%matplotlib inline\n",
      "import seaborn as sns\n",
      "\n",
      "#pd.__version__\n",
      "\n"
     ],
     "language": "python",
     "metadata": {},
     "outputs": [],
     "prompt_number": 2
    },
    {
     "cell_type": "heading",
     "level": 2,
     "metadata": {},
     "source": [
      "Fetching storing and retrieving your data"
     ]
    },
    {
     "cell_type": "markdown",
     "metadata": {},
     "source": [
      "More information on what types of data you can fetch\n",
      "\n",
      "http://pandas.pydata.org/pandas-docs/stable/remote_data.html"
     ]
    },
    {
     "cell_type": "code",
     "collapsed": false,
     "input": [
      "#yahoo data\n",
      "#stocks = ['ORCL', 'TSLA', 'IBM','YELP', 'MSFT']\n",
      "stocks = 'YELP'\n",
      "#ls_key = 'Adj Close'\n",
      "#yahoo_stocks = pd.io.data.DataReader(stocks,'yahoo', \n",
      "#                                 start=datetime.datetime(2014, 1, 1), \n",
      "#                                 end=datetime.datetime(2014, 12, 31))\n",
      "\n",
      "yahoo_stocks = pd.io.data.get_data_yahoo(stocks) #yahoo_stocks is a dataframe\n",
      "#                                 start=datetime.datetime(2011, 10, 1), \n",
      "#                                 end=datetime.datetime(2014, 12, 31))\n",
      "\n",
      "yahoo_stocks.head()\n",
      "#yahoo_stocks.info()"
     ],
     "language": "python",
     "metadata": {},
     "outputs": [
      {
       "html": [
        "<div style=\"max-height:1000px;max-width:1500px;overflow:auto;\">\n",
        "<table border=\"1\" class=\"dataframe\">\n",
        "  <thead>\n",
        "    <tr style=\"text-align: right;\">\n",
        "      <th></th>\n",
        "      <th>Open</th>\n",
        "      <th>High</th>\n",
        "      <th>Low</th>\n",
        "      <th>Close</th>\n",
        "      <th>Volume</th>\n",
        "      <th>Adj Close</th>\n",
        "    </tr>\n",
        "    <tr>\n",
        "      <th>Date</th>\n",
        "      <th></th>\n",
        "      <th></th>\n",
        "      <th></th>\n",
        "      <th></th>\n",
        "      <th></th>\n",
        "      <th></th>\n",
        "    </tr>\n",
        "  </thead>\n",
        "  <tbody>\n",
        "    <tr>\n",
        "      <th>2012-03-02</th>\n",
        "      <td> 22.01</td>\n",
        "      <td> 26.00</td>\n",
        "      <td> 22.00</td>\n",
        "      <td> 24.58</td>\n",
        "      <td> 4809400</td>\n",
        "      <td> 24.58</td>\n",
        "    </tr>\n",
        "    <tr>\n",
        "      <th>2012-03-05</th>\n",
        "      <td> 24.85</td>\n",
        "      <td> 24.86</td>\n",
        "      <td> 20.90</td>\n",
        "      <td> 20.99</td>\n",
        "      <td> 2988200</td>\n",
        "      <td> 20.99</td>\n",
        "    </tr>\n",
        "    <tr>\n",
        "      <th>2012-03-06</th>\n",
        "      <td> 19.83</td>\n",
        "      <td> 20.50</td>\n",
        "      <td> 19.36</td>\n",
        "      <td> 20.50</td>\n",
        "      <td> 1154300</td>\n",
        "      <td> 20.50</td>\n",
        "    </tr>\n",
        "    <tr>\n",
        "      <th>2012-03-07</th>\n",
        "      <td> 20.45</td>\n",
        "      <td> 20.63</td>\n",
        "      <td> 19.95</td>\n",
        "      <td> 20.25</td>\n",
        "      <td>  444800</td>\n",
        "      <td> 20.25</td>\n",
        "    </tr>\n",
        "    <tr>\n",
        "      <th>2012-03-08</th>\n",
        "      <td> 20.30</td>\n",
        "      <td> 20.39</td>\n",
        "      <td> 19.96</td>\n",
        "      <td> 20.00</td>\n",
        "      <td>  436900</td>\n",
        "      <td> 20.00</td>\n",
        "    </tr>\n",
        "  </tbody>\n",
        "</table>\n",
        "</div>"
       ],
       "metadata": {},
       "output_type": "pyout",
       "prompt_number": 3,
       "text": [
        "             Open   High    Low  Close   Volume  Adj Close\n",
        "Date                                                      \n",
        "2012-03-02  22.01  26.00  22.00  24.58  4809400      24.58\n",
        "2012-03-05  24.85  24.86  20.90  20.99  2988200      20.99\n",
        "2012-03-06  19.83  20.50  19.36  20.50  1154300      20.50\n",
        "2012-03-07  20.45  20.63  19.95  20.25   444800      20.25\n",
        "2012-03-08  20.30  20.39  19.96  20.00   436900      20.00"
       ]
      }
     ],
     "prompt_number": 3
    },
    {
     "cell_type": "markdown",
     "metadata": {},
     "source": [
      "More on pandas data frames: \n",
      "\n",
      "\n",
      "http://pandas.pydata.org/pandas-docs/dev/generated/pandas.DataFrame.html"
     ]
    },
    {
     "cell_type": "heading",
     "level": 4,
     "metadata": {},
     "source": [
      "Reading data from a .csv file"
     ]
    },
    {
     "cell_type": "markdown",
     "metadata": {},
     "source": [
      "Some basic commands for reading and getting to know the characteristics of your data"
     ]
    },
    {
     "cell_type": "code",
     "collapsed": false,
     "input": [
      "yahoo_stocks.to_csv('yahoo_data.csv')\n",
      "#print(open('yahoo_data.csv').read())\n",
      "df = pd.read_csv('yahoo_data.csv')#, index_col='Date', infer_datetime_format=True, parse_dates=True)\n",
      "#print df.head()\n",
      "print df.info()\n",
      "#print df.index\n",
      "#print df"
     ],
     "language": "python",
     "metadata": {},
     "outputs": [
      {
       "output_type": "stream",
       "stream": "stdout",
       "text": [
        "<class 'pandas.core.frame.DataFrame'>\n",
        "Int64Index: 747 entries, 0 to 746\n",
        "Data columns (total 7 columns):\n",
        "Date         747 non-null object\n",
        "Open         747 non-null float64\n",
        "High         747 non-null float64\n",
        "Low          747 non-null float64\n",
        "Close        747 non-null float64\n",
        "Volume       747 non-null int64\n",
        "Adj Close    747 non-null float64\n",
        "dtypes: float64(5), int64(1), object(1)None\n"
       ]
      }
     ],
     "prompt_number": 4
    },
    {
     "cell_type": "code",
     "collapsed": false,
     "input": [
      "#The number of tuples in your data\n",
      "print len(df)"
     ],
     "language": "python",
     "metadata": {},
     "outputs": [
      {
       "output_type": "stream",
       "stream": "stdout",
       "text": [
        "740\n"
       ]
      }
     ],
     "prompt_number": 10
    },
    {
     "cell_type": "heading",
     "level": 2,
     "metadata": {},
     "source": [
      "Playing with data columns"
     ]
    },
    {
     "cell_type": "code",
     "collapsed": false,
     "input": [
      "#The columns/features of your data\n",
      "print df.columns"
     ],
     "language": "python",
     "metadata": {},
     "outputs": [
      {
       "output_type": "stream",
       "stream": "stdout",
       "text": [
        "Index([u'Date', u'Open', u'High', u'Low', u'Close', u'Volume', u'Adj Close'], dtype='object')\n"
       ]
      }
     ],
     "prompt_number": 11
    },
    {
     "cell_type": "code",
     "collapsed": false,
     "input": [
      "#Selecting a single column from your data\n",
      "print df['Open']"
     ],
     "language": "python",
     "metadata": {},
     "outputs": [
      {
       "output_type": "stream",
       "stream": "stdout",
       "text": [
        "0     22.01\n",
        "1     24.85\n",
        "2     19.83\n",
        "3     20.45\n",
        "4     20.30\n",
        "5     20.00\n",
        "6     19.80\n",
        "7     22.55\n",
        "8     23.27\n",
        "9     22.45\n",
        "10    21.93\n",
        "11    22.20\n",
        "12    23.15\n",
        "13    23.00\n",
        "14    23.32\n",
        "...\n",
        "725    51.20\n",
        "726    53.87\n",
        "727    54.66\n",
        "728    55.12\n",
        "729    56.06\n",
        "730    56.15\n",
        "731    52.85\n",
        "732    52.59\n",
        "733    52.94\n",
        "734    53.83\n",
        "735    55.53\n",
        "736    57.60\n",
        "737    47.70\n",
        "738    44.91\n",
        "739    43.83\n",
        "Name: Open, Length: 740, dtype: float64\n"
       ]
      }
     ],
     "prompt_number": 12
    },
    {
     "cell_type": "code",
     "collapsed": false,
     "input": [
      "#Another way of selecting a single column from your data\n",
      "print df.Open"
     ],
     "language": "python",
     "metadata": {},
     "outputs": [
      {
       "output_type": "stream",
       "stream": "stdout",
       "text": [
        "0     22.01\n",
        "1     24.85\n",
        "2     19.83\n",
        "3     20.45\n",
        "4     20.30\n",
        "5     20.00\n",
        "6     19.80\n",
        "7     22.55\n",
        "8     23.27\n",
        "9     22.45\n",
        "10    21.93\n",
        "11    22.20\n",
        "12    23.15\n",
        "13    23.00\n",
        "14    23.32\n",
        "...\n",
        "725    51.20\n",
        "726    53.87\n",
        "727    54.66\n",
        "728    55.12\n",
        "729    56.06\n",
        "730    56.15\n",
        "731    52.85\n",
        "732    52.59\n",
        "733    52.94\n",
        "734    53.83\n",
        "735    55.53\n",
        "736    57.60\n",
        "737    47.70\n",
        "738    44.91\n",
        "739    43.83\n",
        "Name: Open, Length: 740, dtype: float64\n"
       ]
      }
     ],
     "prompt_number": 17
    },
    {
     "cell_type": "code",
     "collapsed": false,
     "input": [
      "print df.columns\n",
      "print (df[['Open','Close']]).info()\n",
      "#print df[['Open','Close']]"
     ],
     "language": "python",
     "metadata": {},
     "outputs": [
      {
       "output_type": "stream",
       "stream": "stdout",
       "text": [
        "Index([u'Date', u'Open', u'High', u'Low', u'Close', u'Volume', u'Adj Close'], dtype='object')\n",
        "<class 'pandas.core.frame.DataFrame'>\n",
        "Int64Index: 740 entries, 0 to 739\n",
        "Data columns (total 2 columns):\n",
        "Open     740 non-null float64\n",
        "Close    740 non-null float64\n",
        "dtypes: float64(2)"
       ]
      },
      {
       "output_type": "stream",
       "stream": "stdout",
       "text": [
        "None\n"
       ]
      }
     ],
     "prompt_number": 18
    },
    {
     "cell_type": "code",
     "collapsed": false,
     "input": [
      "print df.Date.head(10)\n",
      "print df.Date.tail(10)\n"
     ],
     "language": "python",
     "metadata": {},
     "outputs": [
      {
       "output_type": "stream",
       "stream": "stdout",
       "text": [
        "0    2012-03-02\n",
        "1    2012-03-05\n",
        "2    2012-03-06\n",
        "3    2012-03-07\n",
        "4    2012-03-08\n",
        "5    2012-03-09\n",
        "6    2012-03-12\n",
        "7    2012-03-13\n",
        "8    2012-03-14\n",
        "9    2012-03-15\n",
        "Name: Date, dtype: object\n",
        "730    2015-01-28\n",
        "731    2015-01-29\n",
        "732    2015-01-30\n",
        "733    2015-02-02\n",
        "734    2015-02-03\n",
        "735    2015-02-04\n",
        "736    2015-02-05\n",
        "737    2015-02-06\n",
        "738    2015-02-09\n",
        "739    2015-02-10\n",
        "Name: Date, dtype: object\n"
       ]
      }
     ],
     "prompt_number": 19
    },
    {
     "cell_type": "code",
     "collapsed": false,
     "input": [
      "#alternative\n",
      "print df['Date'].head(10)\n",
      "print df['Date'].tail(10)"
     ],
     "language": "python",
     "metadata": {},
     "outputs": [
      {
       "ename": "NameError",
       "evalue": "name 'df' is not defined",
       "output_type": "pyerr",
       "traceback": [
        "\u001b[1;31m---------------------------------------------------------------------------\u001b[0m\n\u001b[1;31mNameError\u001b[0m                                 Traceback (most recent call last)",
        "\u001b[1;32m<ipython-input-3-aa35d606e315>\u001b[0m in \u001b[0;36m<module>\u001b[1;34m()\u001b[0m\n\u001b[0;32m      1\u001b[0m \u001b[1;31m#alternative\u001b[0m\u001b[1;33m\u001b[0m\u001b[1;33m\u001b[0m\u001b[0m\n\u001b[1;32m----> 2\u001b[1;33m \u001b[1;32mprint\u001b[0m \u001b[0mdf\u001b[0m\u001b[1;33m[\u001b[0m\u001b[1;34m'Date'\u001b[0m\u001b[1;33m]\u001b[0m\u001b[1;33m.\u001b[0m\u001b[0mhead\u001b[0m\u001b[1;33m(\u001b[0m\u001b[1;36m10\u001b[0m\u001b[1;33m)\u001b[0m\u001b[1;33m\u001b[0m\u001b[0m\n\u001b[0m\u001b[0;32m      3\u001b[0m \u001b[1;32mprint\u001b[0m \u001b[0mdf\u001b[0m\u001b[1;33m[\u001b[0m\u001b[1;34m'Date'\u001b[0m\u001b[1;33m]\u001b[0m\u001b[1;33m.\u001b[0m\u001b[0mtail\u001b[0m\u001b[1;33m(\u001b[0m\u001b[1;36m10\u001b[0m\u001b[1;33m)\u001b[0m\u001b[1;33m\u001b[0m\u001b[0m\n",
        "\u001b[1;31mNameError\u001b[0m: name 'df' is not defined"
       ]
      }
     ],
     "prompt_number": 3
    },
    {
     "cell_type": "heading",
     "level": 4,
     "metadata": {},
     "source": [
      "Changing the column names"
     ]
    },
    {
     "cell_type": "code",
     "collapsed": false,
     "input": [
      "new_column_names = [ x.lower().replace(' ','_') for x in df.columns]\n",
      "new_column_names\n",
      "df.columns = new_column_names\n",
      "print df.info()"
     ],
     "language": "python",
     "metadata": {},
     "outputs": [
      {
       "output_type": "stream",
       "stream": "stdout",
       "text": [
        "<class 'pandas.core.frame.DataFrame'>\n",
        "Int64Index: 747 entries, 0 to 746\n",
        "Data columns (total 7 columns):\n",
        "date         747 non-null object\n",
        "open         747 non-null float64\n",
        "high         747 non-null float64\n",
        "low          747 non-null float64\n",
        "close        747 non-null float64\n",
        "volume       747 non-null int64\n",
        "adj_close    747 non-null float64\n",
        "dtypes: float64(5), int64(1), object(1)None\n"
       ]
      }
     ],
     "prompt_number": 6
    },
    {
     "cell_type": "heading",
     "level": 4,
     "metadata": {},
     "source": [
      "Now **all** columns can be accessed using the **dot** notation"
     ]
    },
    {
     "cell_type": "code",
     "collapsed": false,
     "input": [
      "print df.adj_close"
     ],
     "language": "python",
     "metadata": {},
     "outputs": [
      {
       "output_type": "stream",
       "stream": "stdout",
       "text": [
        "0     24.58\n",
        "1     20.99\n",
        "2     20.50\n",
        "3     20.25\n",
        "4     20.00\n",
        "5     19.80\n",
        "6     22.49\n",
        "7     23.30\n",
        "8     22.32\n",
        "9     21.75\n",
        "10    21.74\n",
        "11    22.99\n",
        "12    22.90\n",
        "13    23.12\n",
        "14    23.22\n",
        "...\n",
        "732    52.47\n",
        "733    53.47\n",
        "734    55.78\n",
        "735    56.74\n",
        "736    57.47\n",
        "737    45.11\n",
        "738    42.17\n",
        "739    44.66\n",
        "740    46.18\n",
        "741    47.63\n",
        "742    47.53\n",
        "743    48.19\n",
        "744    47.54\n",
        "745    47.34\n",
        "746    47.79\n",
        "Name: adj_close, Length: 747, dtype: float64\n"
       ]
      }
     ],
     "prompt_number": 7
    },
    {
     "cell_type": "code",
     "collapsed": false,
     "input": [
      "print df.adj_close.head()"
     ],
     "language": "python",
     "metadata": {},
     "outputs": [
      {
       "output_type": "stream",
       "stream": "stdout",
       "text": [
        "0    24.58\n",
        "1    20.99\n",
        "2    20.50\n",
        "3    20.25\n",
        "4    20.00\n",
        "Name: adj_close, dtype: float64\n"
       ]
      }
     ],
     "prompt_number": 22
    },
    {
     "cell_type": "heading",
     "level": 4,
     "metadata": {},
     "source": [
      "We can now apply methods on different columns"
     ]
    },
    {
     "cell_type": "code",
     "collapsed": false,
     "input": [
      "print df.mean().round(2) #round just rounds the number of decimal places \n",
      "#df.std()\n",
      "#df.median()\n",
      "print df.open.mean()\n",
      "#df.high.mean()"
     ],
     "language": "python",
     "metadata": {},
     "outputs": [
      {
       "output_type": "stream",
       "stream": "stdout",
       "text": [
        "open              46.71\n",
        "high              47.83\n",
        "low               45.50\n",
        "close             46.65\n",
        "volume       2640141.22\n",
        "adj_close         46.65\n",
        "dtype: float64\n",
        "46.7101081081\n"
       ]
      }
     ],
     "prompt_number": 26
    },
    {
     "cell_type": "heading",
     "level": 4,
     "metadata": {},
     "source": [
      "Plotting some columns"
     ]
    },
    {
     "cell_type": "code",
     "collapsed": false,
     "input": [
      "df.adj_close.plot(label='adj')\n",
      "df.low.plot(label='low')\n",
      "#df.low.plot()\n",
      "plt.legend(loc=2)"
     ],
     "language": "python",
     "metadata": {},
     "outputs": [
      {
       "metadata": {},
       "output_type": "pyout",
       "prompt_number": 9,
       "text": [
        "<matplotlib.legend.Legend at 0x1688ea20>"
       ]
      },
      {
       "metadata": {},
       "output_type": "display_data",
       "png": "[encoded data removed]",
       "text": [
        "<matplotlib.figure.Figure at 0x1688eb38>"
       ]
      }
     ],
     "prompt_number": 9
    },
    {
     "cell_type": "code",
     "collapsed": false,
     "input": [
      "df.adj_close.hist()\n",
      "#df.volume.hist()"
     ],
     "language": "python",
     "metadata": {},
     "outputs": [
      {
       "metadata": {},
       "output_type": "pyout",
       "prompt_number": 8,
       "text": [
        "<matplotlib.axes._subplots.AxesSubplot at 0x16740b70>"
       ]
      },
      {
       "metadata": {},
       "output_type": "display_data",
       "png": "[encoded data removed]",
       "text": [
        "<matplotlib.figure.Figure at 0x16740898>"
       ]
      }
     ],
     "prompt_number": 8
    },
    {
     "cell_type": "heading",
     "level": 2,
     "metadata": {},
     "source": [
      "Bulk Operations"
     ]
    },
    {
     "cell_type": "markdown",
     "metadata": {},
     "source": [
      "Methods like **sum( )** and **std( )** work on entire columns. We can run our own functions across all values in a column (or row) using **apply( )**."
     ]
    },
    {
     "cell_type": "code",
     "collapsed": false,
     "input": [
      "print df.date.head()"
     ],
     "language": "python",
     "metadata": {},
     "outputs": [
      {
       "output_type": "stream",
       "stream": "stdout",
       "text": [
        "0    2012-03-02\n",
        "1    2012-03-05\n",
        "2    2012-03-06\n",
        "3    2012-03-07\n",
        "4    2012-03-08\n",
        "Name: date, dtype: object\n"
       ]
      }
     ],
     "prompt_number": 31
    },
    {
     "cell_type": "markdown",
     "metadata": {},
     "source": [
      "The **values** property of the column returns a list of values for the column. Inspecting the first value reveals that these are strings with a particular format."
     ]
    },
    {
     "cell_type": "code",
     "collapsed": false,
     "input": [
      "print df.date.values\n",
      "first_date = df.date.values[0]\n",
      "print first_date"
     ],
     "language": "python",
     "metadata": {},
     "outputs": [
      {
       "output_type": "stream",
       "stream": "stdout",
       "text": [
        "['2012-03-02' '2012-03-05' '2012-03-06' '2012-03-07' '2012-03-08'\n",
        " '2012-03-09' '2012-03-12' '2012-03-13' '2012-03-14' '2012-03-15'\n",
        " '2012-03-16' '2012-03-19' '2012-03-20' '2012-03-21' '2012-03-22'\n",
        " '2012-03-23' '2012-03-26' '2012-03-27' '2012-03-28' '2012-03-29'\n",
        " '2012-03-30' '2012-04-02' '2012-04-03' '2012-04-04' '2012-04-05'\n",
        " '2012-04-09' '2012-04-10' '2012-04-11' '2012-04-12' '2012-04-13'\n",
        " '2012-04-16' '2012-04-17' '2012-04-18' '2012-04-19' '2012-04-20'\n",
        " '2012-04-23' '2012-04-24' '2012-04-25' '2012-04-26' '2012-04-27'\n",
        " '2012-04-30' '2012-05-01' '2012-05-02' '2012-05-03' '2012-05-04'\n",
        " '2012-05-07' '2012-05-08' '2012-05-09' '2012-05-10' '2012-05-11'\n",
        " '2012-05-14' '2012-05-15' '2012-05-16' '2012-05-17' '2012-05-18'\n",
        " '2012-05-21' '2012-05-22' '2012-05-23' '2012-05-24' '2012-05-25'\n",
        " '2012-05-29' '2012-05-30' '2012-05-31' '2012-06-01' '2012-06-04'\n",
        " '2012-06-05' '2012-06-06' '2012-06-07' '2012-06-08' '2012-06-11'\n",
        " '2012-06-12' '2012-06-13' '2012-06-14' '2012-06-15' '2012-06-18'\n",
        " '2012-06-19' '2012-06-20' '2012-06-21' '2012-06-22' '2012-06-25'\n",
        " '2012-06-26' '2012-06-27' '2012-06-28' '2012-06-29' '2012-07-02'\n",
        " '2012-07-03' '2012-07-05' '2012-07-06' '2012-07-09' '2012-07-10'\n",
        " '2012-07-11' '2012-07-12' '2012-07-13' '2012-07-16' '2012-07-17'\n",
        " '2012-07-18' '2012-07-19' '2012-07-20' '2012-07-23' '2012-07-24'\n",
        " '2012-07-25' '2012-07-26' '2012-07-27' '2012-07-30' '2012-07-31'\n",
        " '2012-08-01' '2012-08-02' '2012-08-03' '2012-08-06' '2012-08-07'\n",
        " '2012-08-08' '2012-08-09' '2012-08-10' '2012-08-13' '2012-08-14'\n",
        " '2012-08-15' '2012-08-16' '2012-08-17' '2012-08-20' '2012-08-21'\n",
        " '2012-08-22' '2012-08-23' '2012-08-24' '2012-08-27' '2012-08-28'\n",
        " '2012-08-29' '2012-08-30' '2012-08-31' '2012-09-04' '2012-09-05'\n",
        " '2012-09-06' '2012-09-07' '2012-09-10' '2012-09-11' '2012-09-12'\n",
        " '2012-09-13' '2012-09-14' '2012-09-17' '2012-09-18' '2012-09-19'\n",
        " '2012-09-20' '2012-09-21' '2012-09-24' '2012-09-25' '2012-09-26'\n",
        " '2012-09-27' '2012-09-28' '2012-10-01' '2012-10-02' '2012-10-03'\n",
        " '2012-10-04' '2012-10-05' '2012-10-08' '2012-10-09' '2012-10-10'\n",
        " '2012-10-11' '2012-10-12' '2012-10-15' '2012-10-16' '2012-10-17'\n",
        " '2012-10-18' '2012-10-19' '2012-10-22' '2012-10-23' '2012-10-24'\n",
        " '2012-10-25' '2012-10-26' '2012-10-31' '2012-11-01' '2012-11-02'\n",
        " '2012-11-05' '2012-11-06' '2012-11-07' '2012-11-08' '2012-11-09'\n",
        " '2012-11-12' '2012-11-13' '2012-11-14' '2012-11-15' '2012-11-16'\n",
        " '2012-11-19' '2012-11-20' '2012-11-21' '2012-11-23' '2012-11-26'\n",
        " '2012-11-27' '2012-11-28' '2012-11-29' '2012-11-30' '2012-12-03'\n",
        " '2012-12-04' '2012-12-05' '2012-12-06' '2012-12-07' '2012-12-10'\n",
        " '2012-12-11' '2012-12-12' '2012-12-13' '2012-12-14' '2012-12-17'\n",
        " '2012-12-18' '2012-12-19' '2012-12-20' '2012-12-21' '2012-12-24'\n",
        " '2012-12-26' '2012-12-27' '2012-12-28' '2012-12-31' '2013-01-02'\n",
        " '2013-01-03' '2013-01-04' '2013-01-07' '2013-01-08' '2013-01-09'\n",
        " '2013-01-10' '2013-01-11' '2013-01-14' '2013-01-15' '2013-01-16'\n",
        " '2013-01-17' '2013-01-18' '2013-01-22' '2013-01-23' '2013-01-24'\n",
        " '2013-01-25' '2013-01-28' '2013-01-29' '2013-01-30' '2013-01-31'\n",
        " '2013-02-01' '2013-02-04' '2013-02-05' '2013-02-06' '2013-02-07'\n",
        " '2013-02-08' '2013-02-11' '2013-02-12' '2013-02-13' '2013-02-14'\n",
        " '2013-02-15' '2013-02-19' '2013-02-20' '2013-02-21' '2013-02-22'\n",
        " '2013-02-25' '2013-02-26' '2013-02-27' '2013-02-28' '2013-03-01'\n",
        " '2013-03-04' '2013-03-05' '2013-03-06' '2013-03-07' '2013-03-08'\n",
        " '2013-03-11' '2013-03-12' '2013-03-13' '2013-03-14' '2013-03-15'\n",
        " '2013-03-18' '2013-03-19' '2013-03-20' '2013-03-21' '2013-03-22'\n",
        " '2013-03-25' '2013-03-26' '2013-03-27' '2013-03-28' '2013-04-01'\n",
        " '2013-04-02' '2013-04-03' '2013-04-04' '2013-04-05' '2013-04-08'\n",
        " '2013-04-09' '2013-04-10' '2013-04-11' '2013-04-12' '2013-04-15'\n",
        " '2013-04-16' '2013-04-17' '2013-04-18' '2013-04-19' '2013-04-22'\n",
        " '2013-04-23' '2013-04-24' '2013-04-25' '2013-04-26' '2013-04-29'\n",
        " '2013-04-30' '2013-05-01' '2013-05-02' '2013-05-03' '2013-05-06'\n",
        " '2013-05-07' '2013-05-08' '2013-05-09' '2013-05-10' '2013-05-13'\n",
        " '2013-05-14' '2013-05-15' '2013-05-16' '2013-05-17' '2013-05-20'\n",
        " '2013-05-21' '2013-05-22' '2013-05-23' '2013-05-24' '2013-05-28'\n",
        " '2013-05-29' '2013-05-30' '2013-05-31' '2013-06-03' '2013-06-04'\n",
        " '2013-06-05' '2013-06-06' '2013-06-07' '2013-06-10' '2013-06-11'\n",
        " '2013-06-12' '2013-06-13' '2013-06-14' '2013-06-17' '2013-06-18'\n",
        " '2013-06-19' '2013-06-20' '2013-06-21' '2013-06-24' '2013-06-25'\n",
        " '2013-06-26' '2013-06-27' '2013-06-28' '2013-07-01' '2013-07-02'\n",
        " '2013-07-03' '2013-07-05' '2013-07-08' '2013-07-09' '2013-07-10'\n",
        " '2013-07-11' '2013-07-12' '2013-07-15' '2013-07-16' '2013-07-17'\n",
        " '2013-07-18' '2013-07-19' '2013-07-22' '2013-07-23' '2013-07-24'\n",
        " '2013-07-25' '2013-07-26' '2013-07-29' '2013-07-30' '2013-07-31'\n",
        " '2013-08-01' '2013-08-02' '2013-08-05' '2013-08-06' '2013-08-07'\n",
        " '2013-08-08' '2013-08-09' '2013-08-12' '2013-08-13' '2013-08-14'\n",
        " '2013-08-15' '2013-08-16' '2013-08-19' '2013-08-20' '2013-08-21'\n",
        " '2013-08-22' '2013-08-23' '2013-08-26' '2013-08-27' '2013-08-28'\n",
        " '2013-08-29' '2013-08-30' '2013-09-03' '2013-09-04' '2013-09-05'\n",
        " '2013-09-06' '2013-09-09' '2013-09-10' '2013-09-11' '2013-09-12'\n",
        " '2013-09-13' '2013-09-16' '2013-09-17' '2013-09-18' '2013-09-19'\n",
        " '2013-09-20' '2013-09-23' '2013-09-24' '2013-09-25' '2013-09-26'\n",
        " '2013-09-27' '2013-09-30' '2013-10-01' '2013-10-02' '2013-10-03'\n",
        " '2013-10-04' '2013-10-07' '2013-10-08' '2013-10-09' '2013-10-10'\n",
        " '2013-10-11' '2013-10-14' '2013-10-15' '2013-10-16' '2013-10-17'\n",
        " '2013-10-18' '2013-10-21' '2013-10-22' '2013-10-23' '2013-10-24'\n",
        " '2013-10-25' '2013-10-28' '2013-10-29' '2013-10-30' '2013-10-31'\n",
        " '2013-11-01' '2013-11-04' '2013-11-05' '2013-11-06' '2013-11-07'\n",
        " '2013-11-08' '2013-11-11' '2013-11-12' '2013-11-13' '2013-11-14'\n",
        " '2013-11-15' '2013-11-18' '2013-11-19' '2013-11-20' '2013-11-21'\n",
        " '2013-11-22' '2013-11-25' '2013-11-26' '2013-11-27' '2013-11-29'\n",
        " '2013-12-02' '2013-12-03' '2013-12-04' '2013-12-05' '2013-12-06'\n",
        " '2013-12-09' '2013-12-10' '2013-12-11' '2013-12-12' '2013-12-13'\n",
        " '2013-12-16' '2013-12-17' '2013-12-18' '2013-12-19' '2013-12-20'\n",
        " '2013-12-23' '2013-12-24' '2013-12-26' '2013-12-27' '2013-12-30'\n",
        " '2013-12-31' '2014-01-02' '2014-01-03' '2014-01-06' '2014-01-07'\n",
        " '2014-01-08' '2014-01-09' '2014-01-10' '2014-01-13' '2014-01-14'\n",
        " '2014-01-15' '2014-01-16' '2014-01-17' '2014-01-21' '2014-01-22'\n",
        " '2014-01-23' '2014-01-24' '2014-01-27' '2014-01-28' '2014-01-29'\n",
        " '2014-01-30' '2014-01-31' '2014-02-03' '2014-02-04' '2014-02-05'\n",
        " '2014-02-06' '2014-02-07' '2014-02-10' '2014-02-11' '2014-02-12'\n",
        " '2014-02-13' '2014-02-14' '2014-02-18' '2014-02-19' '2014-02-20'\n",
        " '2014-02-21' '2014-02-24' '2014-02-25' '2014-02-26' '2014-02-27'\n",
        " '2014-02-28' '2014-03-03' '2014-03-04' '2014-03-05' '2014-03-06'\n",
        " '2014-03-07' '2014-03-10' '2014-03-11' '2014-03-12' '2014-03-13'\n",
        " '2014-03-14' '2014-03-17' '2014-03-18' '2014-03-19' '2014-03-20'\n",
        " '2014-03-21' '2014-03-24' '2014-03-25' '2014-03-26' '2014-03-27'\n",
        " '2014-03-28' '2014-03-31' '2014-04-01' '2014-04-02' '2014-04-03'\n",
        " '2014-04-04' '2014-04-07' '2014-04-08' '2014-04-09' '2014-04-10'\n",
        " '2014-04-11' '2014-04-14' '2014-04-15' '2014-04-16' '2014-04-17'\n",
        " '2014-04-21' '2014-04-22' '2014-04-23' '2014-04-24' '2014-04-25'\n",
        " '2014-04-28' '2014-04-29' '2014-04-30' '2014-05-01' '2014-05-02'\n",
        " '2014-05-05' '2014-05-06' '2014-05-07' '2014-05-08' '2014-05-09'\n",
        " '2014-05-12' '2014-05-13' '2014-05-14' '2014-05-15' '2014-05-16'\n",
        " '2014-05-19' '2014-05-20' '2014-05-21' '2014-05-22' '2014-05-23'\n",
        " '2014-05-27' '2014-05-28' '2014-05-29' '2014-05-30' '2014-06-02'\n",
        " '2014-06-03' '2014-06-04' '2014-06-05' '2014-06-06' '2014-06-09'\n",
        " '2014-06-10' '2014-06-11' '2014-06-12' '2014-06-13' '2014-06-16'\n",
        " '2014-06-17' '2014-06-18' '2014-06-19' '2014-06-20' '2014-06-23'\n",
        " '2014-06-24' '2014-06-25' '2014-06-26' '2014-06-27' '2014-06-30'\n",
        " '2014-07-01' '2014-07-02' '2014-07-03' '2014-07-07' '2014-07-08'\n",
        " '2014-07-09' '2014-07-10' '2014-07-11' '2014-07-14' '2014-07-15'\n",
        " '2014-07-16' '2014-07-17' '2014-07-18' '2014-07-21' '2014-07-22'\n",
        " '2014-07-23' '2014-07-24' '2014-07-25' '2014-07-28' '2014-07-29'\n",
        " '2014-07-30' '2014-07-31' '2014-08-01' '2014-08-04' '2014-08-05'\n",
        " '2014-08-06' '2014-08-07' '2014-08-08' '2014-08-11' '2014-08-12'\n",
        " '2014-08-13' '2014-08-14' '2014-08-15' '2014-08-18' '2014-08-19'\n",
        " '2014-08-20' '2014-08-21' '2014-08-22' '2014-08-25' '2014-08-26'\n",
        " '2014-08-27' '2014-08-28' '2014-08-29' '2014-09-02' '2014-09-03'\n",
        " '2014-09-04' '2014-09-05' '2014-09-08' '2014-09-09' '2014-09-10'\n",
        " '2014-09-11' '2014-09-12' '2014-09-15' '2014-09-16' '2014-09-17'\n",
        " '2014-09-18' '2014-09-19' '2014-09-22' '2014-09-23' '2014-09-24'\n",
        " '2014-09-25' '2014-09-26' '2014-09-29' '2014-09-30' '2014-10-01'\n",
        " '2014-10-02' '2014-10-03' '2014-10-06' '2014-10-07' '2014-10-08'\n",
        " '2014-10-09' '2014-10-10' '2014-10-13' '2014-10-14' '2014-10-15'\n",
        " '2014-10-16' '2014-10-17' '2014-10-20' '2014-10-21' '2014-10-22'\n",
        " '2014-10-23' '2014-10-24' '2014-10-27' '2014-10-28' '2014-10-29'\n",
        " '2014-10-30' '2014-10-31' '2014-11-03' '2014-11-04' '2014-11-05'\n",
        " '2014-11-06' '2014-11-07' '2014-11-10' '2014-11-11' '2014-11-12'\n",
        " '2014-11-13' '2014-11-14' '2014-11-17' '2014-11-18' '2014-11-19'\n",
        " '2014-11-20' '2014-11-21' '2014-11-24' '2014-11-25' '2014-11-26'\n",
        " '2014-11-28' '2014-12-01' '2014-12-02' '2014-12-03' '2014-12-04'\n",
        " '2014-12-05' '2014-12-08' '2014-12-09' '2014-12-10' '2014-12-11'\n",
        " '2014-12-12' '2014-12-15' '2014-12-16' '2014-12-17' '2014-12-18'\n",
        " '2014-12-19' '2014-12-22' '2014-12-23' '2014-12-24' '2014-12-26'\n",
        " '2014-12-29' '2014-12-30' '2014-12-31' '2015-01-02' '2015-01-05'\n",
        " '2015-01-06' '2015-01-07' '2015-01-08' '2015-01-09' '2015-01-12'\n",
        " '2015-01-13' '2015-01-14' '2015-01-15' '2015-01-16' '2015-01-20'\n",
        " '2015-01-21' '2015-01-22' '2015-01-23' '2015-01-26' '2015-01-27'\n",
        " '2015-01-28' '2015-01-29' '2015-01-30' '2015-02-02' '2015-02-03'\n",
        " '2015-02-04' '2015-02-05' '2015-02-06' '2015-02-09' '2015-02-10']\n",
        "2012-03-02\n"
       ]
      }
     ],
     "prompt_number": 35
    },
    {
     "cell_type": "code",
     "collapsed": false,
     "input": [
      "datetime.strptime(first_date, \"%Y-%m-%d\")"
     ],
     "language": "python",
     "metadata": {},
     "outputs": [
      {
       "metadata": {},
       "output_type": "pyout",
       "prompt_number": 36,
       "text": [
        "datetime.datetime(2012, 3, 2, 0, 0)"
       ]
      }
     ],
     "prompt_number": 36
    },
    {
     "cell_type": "code",
     "collapsed": false,
     "input": [
      "df.date = df.date.apply(lambda d: datetime.strptime(d, \"%Y-%m-%d\"))\n",
      "print df.date.head()"
     ],
     "language": "python",
     "metadata": {},
     "outputs": [
      {
       "output_type": "stream",
       "stream": "stdout",
       "text": [
        "0   2012-03-02\n",
        "1   2012-03-05\n",
        "2   2012-03-06\n",
        "3   2012-03-07\n",
        "4   2012-03-08\n",
        "Name: date, dtype: datetime64[ns]\n"
       ]
      }
     ],
     "prompt_number": 37
    },
    {
     "cell_type": "markdown",
     "metadata": {},
     "source": [
      "apply takes a function and applies it to every row in the given column\n"
     ]
    },
    {
     "cell_type": "markdown",
     "metadata": {},
     "source": [
      "Each row in a DataFrame is associated with an index, which is a label that uniquely identifies a row.\n",
      "\n",
      "The row indices so far have been auto-generated by pandas, and are simply integers starting from 0. From now on we will use dates instead of integers for indices-- the benefits of this will show later. Overwriting the index is as easy as assigning to the index property of the DataFrame.\n"
     ]
    },
    {
     "cell_type": "code",
     "collapsed": false,
     "input": [
      "df.index = df.date\n",
      "print df.info()\n",
      "print df.head()"
     ],
     "language": "python",
     "metadata": {},
     "outputs": [
      {
       "output_type": "stream",
       "stream": "stdout",
       "text": [
        "<class 'pandas.core.frame.DataFrame'>\n",
        "DatetimeIndex: 740 entries, 2012-03-02 00:00:00 to 2015-02-10 00:00:00\n",
        "Data columns (total 7 columns):\n",
        "date         740 non-null datetime64[ns]\n",
        "open         740 non-null float64\n",
        "high         740 non-null float64\n",
        "low          740 non-null float64\n",
        "close        740 non-null float64\n",
        "volume       740 non-null int64\n",
        "adj_close    740 non-null float64\n",
        "dtypes: datetime64[ns](1), float64(5), int64(1)None\n",
        "                 date   open   high    low  close   volume  adj_close\n",
        "date                                                                 \n",
        "2012-03-02 2012-03-02  22.01  26.00  22.00  24.58  4809400      24.58\n",
        "2012-03-05 2012-03-05  24.85  24.86  20.90  20.99  2988200      20.99\n",
        "2012-03-06 2012-03-06  19.83  20.50  19.36  20.50  1154300      20.50\n",
        "2012-03-07 2012-03-07  20.45  20.63  19.95  20.25   444800      20.25\n",
        "2012-03-08 2012-03-08  20.30  20.39  19.96  20.00   436900      20.00\n"
       ]
      }
     ],
     "prompt_number": 39
    },
    {
     "cell_type": "heading",
     "level": 4,
     "metadata": {},
     "source": [
      "Accessing rows of the DataFrame using index values"
     ]
    },
    {
     "cell_type": "code",
     "collapsed": false,
     "input": [
      "df.ix[datetime(2015,1,23,0,0)]"
     ],
     "language": "python",
     "metadata": {},
     "outputs": [
      {
       "metadata": {},
       "output_type": "pyout",
       "prompt_number": 42,
       "text": [
        "date         2015-01-23 00:00:00\n",
        "open                       54.66\n",
        "high                       55.64\n",
        "low                         54.3\n",
        "close                      55.19\n",
        "volume                   1629000\n",
        "adj_close                  55.19\n",
        "Name: 2015-01-23 00:00:00, dtype: object"
       ]
      }
     ],
     "prompt_number": 42
    },
    {
     "cell_type": "markdown",
     "metadata": {},
     "source": [
      ".ix take a datetime object (or whatever the index is) and returns that row corresponding to the index"
     ]
    },
    {
     "cell_type": "heading",
     "level": 4,
     "metadata": {},
     "source": [
      "Accessing individual rows using iloc[ ]"
     ]
    },
    {
     "cell_type": "code",
     "collapsed": false,
     "input": [
      "df.iloc[0,:]"
     ],
     "language": "python",
     "metadata": {},
     "outputs": [
      {
       "metadata": {},
       "output_type": "pyout",
       "prompt_number": 43,
       "text": [
        "date         2012-03-02 00:00:00\n",
        "open                       22.01\n",
        "high                          26\n",
        "low                           22\n",
        "close                      24.58\n",
        "volume                   4809400\n",
        "adj_close                  24.58\n",
        "Name: 2012-03-02 00:00:00, dtype: object"
       ]
      }
     ],
     "prompt_number": 43
    },
    {
     "cell_type": "heading",
     "level": 4,
     "metadata": {},
     "source": [
      "Iterating over the rows using **iterrows( )**"
     ]
    },
    {
     "cell_type": "code",
     "collapsed": false,
     "input": [
      "num_positive_days = 0\n",
      "for idx, row in df.iterrows():\n",
      "    if row.close > row.open:\n",
      "        num_positive_days += 1\n",
      "        \n",
      "print \"The total number of positive-gain days : \" + str(num_positive_days)"
     ],
     "language": "python",
     "metadata": {},
     "outputs": [
      {
       "output_type": "stream",
       "stream": "stdout",
       "text": [
        "The total number of positive-gain days : 359\n"
       ]
      }
     ],
     "prompt_number": 44
    },
    {
     "cell_type": "heading",
     "level": 4,
     "metadata": {},
     "source": [
      "Droping a column"
     ]
    },
    {
     "cell_type": "markdown",
     "metadata": {},
     "source": [
      "Now that we have made an index based on date, we can drop the actual ``date\" column"
     ]
    },
    {
     "cell_type": "code",
     "collapsed": false,
     "input": [
      "df = df.drop(['date'],axis=1)\n",
      "print df.info()\n",
      "print df.columns"
     ],
     "language": "python",
     "metadata": {},
     "outputs": [
      {
       "ename": "ValueError",
       "evalue": "labels ['date'] not contained in axis",
       "output_type": "pyerr",
       "traceback": [
        "\u001b[1;31m---------------------------------------------------------------------------\u001b[0m\n\u001b[1;31mValueError\u001b[0m                                Traceback (most recent call last)",
        "\u001b[1;32m<ipython-input-46-37244b6483dc>\u001b[0m in \u001b[0;36m<module>\u001b[1;34m()\u001b[0m\n\u001b[1;32m----> 1\u001b[1;33m \u001b[0mdf\u001b[0m \u001b[1;33m=\u001b[0m \u001b[0mdf\u001b[0m\u001b[1;33m.\u001b[0m\u001b[0mdrop\u001b[0m\u001b[1;33m(\u001b[0m\u001b[1;33m[\u001b[0m\u001b[1;34m'date'\u001b[0m\u001b[1;33m]\u001b[0m\u001b[1;33m,\u001b[0m\u001b[0maxis\u001b[0m\u001b[1;33m=\u001b[0m\u001b[1;36m1\u001b[0m\u001b[1;33m)\u001b[0m\u001b[1;33m\u001b[0m\u001b[0m\n\u001b[0m\u001b[0;32m      2\u001b[0m \u001b[1;32mprint\u001b[0m \u001b[0mdf\u001b[0m\u001b[1;33m.\u001b[0m\u001b[0minfo\u001b[0m\u001b[1;33m(\u001b[0m\u001b[1;33m)\u001b[0m\u001b[1;33m\u001b[0m\u001b[0m\n\u001b[0;32m      3\u001b[0m \u001b[1;32mprint\u001b[0m \u001b[0mdf\u001b[0m\u001b[1;33m.\u001b[0m\u001b[0mcolumns\u001b[0m\u001b[1;33m\u001b[0m\u001b[0m\n\u001b[0;32m      4\u001b[0m \u001b[1;32mprint\u001b[0m \u001b[0mdf\u001b[0m\u001b[1;33m.\u001b[0m\u001b[0mhead\u001b[0m\u001b[1;33m(\u001b[0m\u001b[1;33m)\u001b[0m\u001b[1;33m\u001b[0m\u001b[0m\n",
        "\u001b[1;32mc:\\Users\\Ben\\Anaconda\\lib\\site-packages\\pandas\\core\\generic.pyc\u001b[0m in \u001b[0;36mdrop\u001b[1;34m(self, labels, axis, level, inplace, **kwargs)\u001b[0m\n\u001b[0;32m   1462\u001b[0m                 \u001b[0mnew_axis\u001b[0m \u001b[1;33m=\u001b[0m \u001b[0maxis\u001b[0m\u001b[1;33m.\u001b[0m\u001b[0mdrop\u001b[0m\u001b[1;33m(\u001b[0m\u001b[0mlabels\u001b[0m\u001b[1;33m,\u001b[0m \u001b[0mlevel\u001b[0m\u001b[1;33m=\u001b[0m\u001b[0mlevel\u001b[0m\u001b[1;33m)\u001b[0m\u001b[1;33m\u001b[0m\u001b[0m\n\u001b[0;32m   1463\u001b[0m             \u001b[1;32melse\u001b[0m\u001b[1;33m:\u001b[0m\u001b[1;33m\u001b[0m\u001b[0m\n\u001b[1;32m-> 1464\u001b[1;33m                 \u001b[0mnew_axis\u001b[0m \u001b[1;33m=\u001b[0m \u001b[0maxis\u001b[0m\u001b[1;33m.\u001b[0m\u001b[0mdrop\u001b[0m\u001b[1;33m(\u001b[0m\u001b[0mlabels\u001b[0m\u001b[1;33m)\u001b[0m\u001b[1;33m\u001b[0m\u001b[0m\n\u001b[0m\u001b[0;32m   1465\u001b[0m             \u001b[0mdropped\u001b[0m \u001b[1;33m=\u001b[0m \u001b[0mself\u001b[0m\u001b[1;33m.\u001b[0m\u001b[0mreindex\u001b[0m\u001b[1;33m(\u001b[0m\u001b[1;33m**\u001b[0m\u001b[1;33m{\u001b[0m\u001b[0maxis_name\u001b[0m\u001b[1;33m:\u001b[0m \u001b[0mnew_axis\u001b[0m\u001b[1;33m}\u001b[0m\u001b[1;33m)\u001b[0m\u001b[1;33m\u001b[0m\u001b[0m\n\u001b[0;32m   1466\u001b[0m             \u001b[1;32mtry\u001b[0m\u001b[1;33m:\u001b[0m\u001b[1;33m\u001b[0m\u001b[0m\n",
        "\u001b[1;32mc:\\Users\\Ben\\Anaconda\\lib\\site-packages\\pandas\\core\\index.pyc\u001b[0m in \u001b[0;36mdrop\u001b[1;34m(self, labels)\u001b[0m\n\u001b[0;32m   1829\u001b[0m         \u001b[0mmask\u001b[0m \u001b[1;33m=\u001b[0m \u001b[0mindexer\u001b[0m \u001b[1;33m==\u001b[0m \u001b[1;33m-\u001b[0m\u001b[1;36m1\u001b[0m\u001b[1;33m\u001b[0m\u001b[0m\n\u001b[0;32m   1830\u001b[0m         \u001b[1;32mif\u001b[0m \u001b[0mmask\u001b[0m\u001b[1;33m.\u001b[0m\u001b[0many\u001b[0m\u001b[1;33m(\u001b[0m\u001b[1;33m)\u001b[0m\u001b[1;33m:\u001b[0m\u001b[1;33m\u001b[0m\u001b[0m\n\u001b[1;32m-> 1831\u001b[1;33m             \u001b[1;32mraise\u001b[0m \u001b[0mValueError\u001b[0m\u001b[1;33m(\u001b[0m\u001b[1;34m'labels %s not contained in axis'\u001b[0m \u001b[1;33m%\u001b[0m \u001b[0mlabels\u001b[0m\u001b[1;33m[\u001b[0m\u001b[0mmask\u001b[0m\u001b[1;33m]\u001b[0m\u001b[1;33m)\u001b[0m\u001b[1;33m\u001b[0m\u001b[0m\n\u001b[0m\u001b[0;32m   1832\u001b[0m         \u001b[1;32mreturn\u001b[0m \u001b[0mself\u001b[0m\u001b[1;33m.\u001b[0m\u001b[0mdelete\u001b[0m\u001b[1;33m(\u001b[0m\u001b[0mindexer\u001b[0m\u001b[1;33m)\u001b[0m\u001b[1;33m\u001b[0m\u001b[0m\n\u001b[0;32m   1833\u001b[0m \u001b[1;33m\u001b[0m\u001b[0m\n",
        "\u001b[1;31mValueError\u001b[0m: labels ['date'] not contained in axis"
       ]
      }
     ],
     "prompt_number": 46
    },
    {
     "cell_type": "code",
     "collapsed": false,
     "input": [
      "print df.head()\n",
      "#date now only appears once because we droped it"
     ],
     "language": "python",
     "metadata": {},
     "outputs": [
      {
       "output_type": "stream",
       "stream": "stdout",
       "text": [
        "             open   high    low  close   volume  adj_close\n",
        "date                                                      \n",
        "2012-03-02  22.01  26.00  22.00  24.58  4809400      24.58\n",
        "2012-03-05  24.85  24.86  20.90  20.99  2988200      20.99\n",
        "2012-03-06  19.83  20.50  19.36  20.50  1154300      20.50\n",
        "2012-03-07  20.45  20.63  19.95  20.25   444800      20.25\n",
        "2012-03-08  20.30  20.39  19.96  20.00   436900      20.00\n"
       ]
      }
     ],
     "prompt_number": 47
    },
    {
     "cell_type": "heading",
     "level": 2,
     "metadata": {},
     "source": [
      "Filtering"
     ]
    },
    {
     "cell_type": "markdown",
     "metadata": {},
     "source": [
      "Selecting interesting rows from the data.  All operations below return a DataFrame, which can be treated the same way as all DataFrames we have seen so far."
     ]
    },
    {
     "cell_type": "code",
     "collapsed": false,
     "input": [
      "positive_days = df[df.close > df.open]\n",
      "print positive_days.head()\n",
      "print len(positive_days)"
     ],
     "language": "python",
     "metadata": {},
     "outputs": [
      {
       "output_type": "stream",
       "stream": "stdout",
       "text": [
        "             open   high    low  close   volume  adj_close\n",
        "date                                                      \n",
        "2012-03-02  22.01  26.00  22.00  24.58  4809400      24.58\n",
        "2012-03-06  19.83  20.50  19.36  20.50  1154300      20.50\n",
        "2012-03-12  19.80  22.49  19.52  22.49  1358200      22.49\n",
        "2012-03-13  22.55  24.40  22.20  23.30  2053900      23.30\n",
        "2012-03-19  22.20  23.93  21.70  22.99   858400      22.99\n",
        "359\n"
       ]
      }
     ],
     "prompt_number": 49
    },
    {
     "cell_type": "code",
     "collapsed": false,
     "input": [
      "very_positive_days = df[df.close-df.open > 4]\n",
      "print len(very_positive_days)\n",
      "#print very_positive_days.head()"
     ],
     "language": "python",
     "metadata": {},
     "outputs": [
      {
       "output_type": "stream",
       "stream": "stdout",
       "text": [
        "9\n"
       ]
      }
     ],
     "prompt_number": 50
    },
    {
     "cell_type": "code",
     "collapsed": false,
     "input": [
      "tmp_high = df.high > 30\n",
      "print type(tmp_high)"
     ],
     "language": "python",
     "metadata": {},
     "outputs": [
      {
       "output_type": "stream",
       "stream": "stdout",
       "text": [
        "<class 'pandas.core.series.Series'>\n"
       ]
      }
     ],
     "prompt_number": 60
    },
    {
     "cell_type": "code",
     "collapsed": false,
     "input": [
      "print tmp_high\n",
      "print len(tmp_high)"
     ],
     "language": "python",
     "metadata": {},
     "outputs": [
      {
       "output_type": "stream",
       "stream": "stdout",
       "text": [
        "date\n",
        "2012-03-02    False\n",
        "2012-03-05    False\n",
        "2012-03-06    False\n",
        "2012-03-07    False\n",
        "2012-03-08    False\n",
        "2012-03-09    False\n",
        "2012-03-12    False\n",
        "2012-03-13    False\n",
        "2012-03-14    False\n",
        "2012-03-15    False\n",
        "2012-03-16    False\n",
        "2012-03-19    False\n",
        "2012-03-20    False\n",
        "2012-03-21    False\n",
        "2012-03-22    False\n",
        "...\n",
        "2015-01-21    True\n",
        "2015-01-22    True\n",
        "2015-01-23    True\n",
        "2015-01-26    True\n",
        "2015-01-27    True\n",
        "2015-01-28    True\n",
        "2015-01-29    True\n",
        "2015-01-30    True\n",
        "2015-02-02    True\n",
        "2015-02-03    True\n",
        "2015-02-04    True\n",
        "2015-02-05    True\n",
        "2015-02-06    True\n",
        "2015-02-09    True\n",
        "2015-02-10    True\n",
        "Name: high, Length: 740\n",
        "740\n"
       ]
      }
     ],
     "prompt_number": 61
    },
    {
     "cell_type": "markdown",
     "metadata": {},
     "source": [
      "Select only the rows of **df** that correspond to **tmp_high**"
     ]
    },
    {
     "cell_type": "code",
     "collapsed": false,
     "input": [
      "print df[tmp_high]"
     ],
     "language": "python",
     "metadata": {},
     "outputs": [
      {
       "output_type": "stream",
       "stream": "stdout",
       "text": [
        "             open   high    low  close    volume  adj_close\n",
        "date                                                       \n",
        "2012-03-28  27.52  31.96  27.10  28.09   5267300      28.09\n",
        "2013-05-02  29.50  32.39  28.78  32.22  10145800      32.22\n",
        "2013-05-03  32.37  32.80  31.02  31.12   2727200      31.12\n",
        "2013-05-06  30.79  31.60  30.11  30.69   2412500      30.69\n",
        "2013-05-07  30.70  31.22  30.20  30.67   1309400      30.67\n",
        "2013-05-08  30.72  30.91  29.30  29.91   2513900      29.91\n",
        "2013-05-09  30.09  31.05  29.78  30.67   1371400      30.67\n",
        "2013-05-10  30.78  31.23  30.45  30.93    909400      30.93\n",
        "2013-05-13  31.01  31.65  29.87  30.92   1491900      30.92\n",
        "2013-05-14  31.03  31.49  30.61  30.97   2233100      30.97\n",
        "2013-05-15  30.77  31.99  29.75  30.01   2729300      30.01\n",
        "2013-05-16  30.22  31.36  30.10  30.43   2690700      30.43\n",
        "2013-05-17  30.42  31.04  30.03  30.79   1735500      30.79\n",
        "2013-05-20  30.80  32.88  30.58  30.97   2728900      30.97\n",
        "2013-05-21  30.85  32.61  30.85  31.58   2390700      31.58\n",
        "2013-05-22  31.60  32.22  29.05  29.40   2588300      29.40\n",
        "2013-05-28  29.47  30.50  29.47  29.95    981400      29.95\n",
        "2013-05-29  29.93  30.55  29.64  30.09    824900      30.09\n",
        "2013-05-30  30.01  30.42  29.81  29.99    799500      29.99\n",
        "2013-05-31  29.90  30.17  29.62  29.81    579400      29.81\n",
        "2013-06-07  29.00  30.18  28.72  30.11    878200      30.11\n",
        "2013-06-10  30.04  30.11  29.41  29.92    760900      29.92\n",
        "2013-06-14  30.00  31.10  29.43  30.84   1013100      30.84\n",
        "2013-06-17  31.33  31.81  30.87  31.75   1254800      31.75\n",
        "2013-06-18  31.95  32.11  31.40  31.55    721700      31.55\n",
        "2013-06-19  31.28  33.00  30.97  32.93   1611200      32.93\n",
        "2013-06-20  32.36  32.47  30.85  31.00   1444100      31.00\n",
        "2013-06-21  31.18  31.75  30.23  31.24   1504000      31.24\n",
        "2013-06-24  30.38  31.44  29.26  30.94   1498300      30.94\n",
        "2013-06-25  31.40  31.79  30.72  31.11    900600      31.11\n",
        "...           ...    ...    ...    ...       ...        ...\n",
        "2014-12-29  52.77  53.86  52.52  53.01   1181500      53.01\n",
        "2014-12-30  53.09  54.95  52.85  54.24   2336800      54.24\n",
        "2014-12-31  54.71  55.57  54.16  54.73   1858000      54.73\n",
        "2015-01-02  55.46  55.60  54.24  55.15   1664500      55.15\n",
        "2015-01-05  54.54  54.95  52.33  52.53   2023000      52.53\n",
        "2015-01-06  52.55  53.93  50.75  52.44   3751200      52.44\n",
        "2015-01-07  53.32  53.75  51.76  52.21   1548200      52.21\n",
        "2015-01-08  52.59  54.14  51.76  53.83   2015300      53.83\n",
        "2015-01-09  55.96  56.99  54.72  56.07   6222600      56.07\n",
        "2015-01-12  56.00  56.06  53.43  54.02   2405100      54.02\n",
        "2015-01-13  54.47  54.80  52.52  53.18   1952100      53.18\n",
        "2015-01-14  52.80  53.68  51.46  52.20   1846100      52.20\n",
        "2015-01-15  53.00  53.61  50.03  50.12   2640400      50.12\n",
        "2015-01-16  50.18  51.49  50.03  51.39   2183300      51.39\n",
        "2015-01-20  51.65  51.78  50.69  51.41   1227600      51.41\n",
        "2015-01-21  51.20  53.50  51.20  53.41   3248100      53.41\n",
        "2015-01-22  53.87  55.28  53.12  54.80   2295400      54.80\n",
        "2015-01-23  54.66  55.64  54.30  55.19   1629000      55.19\n",
        "2015-01-26  55.12  55.79  54.83  55.41   1450300      55.41\n",
        "2015-01-27  56.06  56.16  54.57  55.63   2403700      55.63\n",
        "2015-01-28  56.15  56.15  52.92  53.00   2002700      53.00\n",
        "2015-01-29  52.85  53.31  51.41  52.93   1838000      52.93\n",
        "2015-01-30  52.59  53.42  52.05  52.47   1873900      52.47\n",
        "2015-02-02  52.94  53.50  51.21  53.47   2105500      53.47\n",
        "2015-02-03  53.83  55.93  53.41  55.78   2876400      55.78\n",
        "2015-02-04  55.53  57.07  55.25  56.74   2494400      56.74\n",
        "2015-02-05  57.60  57.70  56.08  57.47   4195400      57.47\n",
        "2015-02-06  47.70  48.17  44.86  45.11  25137400      45.11\n",
        "2015-02-09  44.91  45.04  42.10  42.17  13044700      42.17\n",
        "2015-02-10  43.83  45.55  43.31  44.66  11247800      44.66\n",
        "\n",
        "[440 rows x 6 columns]\n"
       ]
      }
     ],
     "prompt_number": 62
    },
    {
     "cell_type": "heading",
     "level": 2,
     "metadata": {},
     "source": [
      "Creating new columns"
     ]
    },
    {
     "cell_type": "code",
     "collapsed": false,
     "input": [
      "df['profit'] = (df.open < df.close)\n",
      "print df.head()"
     ],
     "language": "python",
     "metadata": {},
     "outputs": [
      {
       "output_type": "stream",
       "stream": "stdout",
       "text": [
        "             open   high    low  close   volume  adj_close profit\n",
        "date                                                             \n",
        "2012-03-02  22.01  26.00  22.00  24.58  4809400      24.58   True\n",
        "2012-03-05  24.85  24.86  20.90  20.99  2988200      20.99  False\n",
        "2012-03-06  19.83  20.50  19.36  20.50  1154300      20.50   True\n",
        "2012-03-07  20.45  20.63  19.95  20.25   444800      20.25  False\n",
        "2012-03-08  20.30  20.39  19.96  20.00   436900      20.00  False\n"
       ]
      }
     ],
     "prompt_number": 63
    },
    {
     "cell_type": "code",
     "collapsed": false,
     "input": [
      "for idx, row in df.iterrows():\n",
      "    if row.close < row.open:\n",
      "        df.ix[idx,'gain']='negative'\n",
      "    elif (row.close - row.open) < 1:\n",
      "        df.ix[idx,'gain']='small_gain'\n",
      "    elif (row.close - row.open) < 6:\n",
      "        df.ix[idx,'gain']='medium_gain'\n",
      "    else:\n",
      "        df.ix[idx,'gain']='large_gain'\n",
      "print df.head()"
     ],
     "language": "python",
     "metadata": {},
     "outputs": [
      {
       "output_type": "stream",
       "stream": "stdout",
       "text": [
        "             open   high    low  close   volume  adj_close profit  \\\n",
        "date                                                                \n",
        "2012-03-02  22.01  26.00  22.00  24.58  4809400      24.58   True   \n",
        "2012-03-05  24.85  24.86  20.90  20.99  2988200      20.99  False   \n",
        "2012-03-06  19.83  20.50  19.36  20.50  1154300      20.50   True   \n",
        "2012-03-07  20.45  20.63  19.95  20.25   444800      20.25  False   \n",
        "2012-03-08  20.30  20.39  19.96  20.00   436900      20.00  False   \n",
        "\n",
        "                   gain  test_column  \n",
        "date                                  \n",
        "2012-03-02  medium_gain     negative  \n",
        "2012-03-05     negative  medium_gain  \n",
        "2012-03-06   small_gain     negative  \n",
        "2012-03-07     negative   small_gain  \n",
        "2012-03-08     negative   small_gain  \n"
       ]
      }
     ],
     "prompt_number": 72
    },
    {
     "cell_type": "heading",
     "level": 4,
     "metadata": {},
     "source": [
      "Alternatively"
     ]
    },
    {
     "cell_type": "code",
     "collapsed": false,
     "input": [
      "def namerow(row):\n",
      "    if row.close > row.open:\n",
      "        return 'negative'\n",
      "    elif (row.open - row.close) < 1:\n",
      "        return 'small_gain'\n",
      "    elif (row.open - row.close) < 6:\n",
      "        return 'medium_gain'\n",
      "    else:\n",
      "        return 'large_gain'\n",
      "\n",
      "df['test_column'] = df.apply(namerow, axis = 1)\n"
     ],
     "language": "python",
     "metadata": {},
     "outputs": [],
     "prompt_number": 66
    },
    {
     "cell_type": "code",
     "collapsed": false,
     "input": [
      "print df.head()"
     ],
     "language": "python",
     "metadata": {},
     "outputs": [
      {
       "output_type": "stream",
       "stream": "stdout",
       "text": [
        "             open   high    low  close   volume  adj_close profit  \\\n",
        "date                                                                \n",
        "2012-03-02  22.01  26.00  22.00  24.58  4809400      24.58   True   \n",
        "2012-03-05  24.85  24.86  20.90  20.99  2988200      20.99  False   \n",
        "2012-03-06  19.83  20.50  19.36  20.50  1154300      20.50   True   \n",
        "2012-03-07  20.45  20.63  19.95  20.25   444800      20.25  False   \n",
        "2012-03-08  20.30  20.39  19.96  20.00   436900      20.00  False   \n",
        "\n",
        "                   gain  test_column  \n",
        "date                                  \n",
        "2012-03-02     negative     negative  \n",
        "2012-03-05  medium_gain  medium_gain  \n",
        "2012-03-06     negative     negative  \n",
        "2012-03-07   small_gain   small_gain  \n",
        "2012-03-08   small_gain   small_gain  \n"
       ]
      }
     ],
     "prompt_number": 67
    },
    {
     "cell_type": "code",
     "collapsed": false,
     "input": [
      "df.drop('test_column', axis = 1)"
     ],
     "language": "python",
     "metadata": {},
     "outputs": [
      {
       "html": [
        "<div style=\"max-height:1000px;max-width:1500px;overflow:auto;\">\n",
        "<table border=\"1\" class=\"dataframe\">\n",
        "  <thead>\n",
        "    <tr style=\"text-align: right;\">\n",
        "      <th></th>\n",
        "      <th>open</th>\n",
        "      <th>high</th>\n",
        "      <th>low</th>\n",
        "      <th>close</th>\n",
        "      <th>volume</th>\n",
        "      <th>adj_close</th>\n",
        "      <th>profit</th>\n",
        "      <th>gain</th>\n",
        "    </tr>\n",
        "    <tr>\n",
        "      <th>date</th>\n",
        "      <th></th>\n",
        "      <th></th>\n",
        "      <th></th>\n",
        "      <th></th>\n",
        "      <th></th>\n",
        "      <th></th>\n",
        "      <th></th>\n",
        "      <th></th>\n",
        "    </tr>\n",
        "  </thead>\n",
        "  <tbody>\n",
        "    <tr>\n",
        "      <th>2012-03-02</th>\n",
        "      <td> 22.01</td>\n",
        "      <td> 26.00</td>\n",
        "      <td> 22.00</td>\n",
        "      <td> 24.58</td>\n",
        "      <td>  4809400</td>\n",
        "      <td> 24.58</td>\n",
        "      <td>  True</td>\n",
        "      <td>    negative</td>\n",
        "    </tr>\n",
        "    <tr>\n",
        "      <th>2012-03-05</th>\n",
        "      <td> 24.85</td>\n",
        "      <td> 24.86</td>\n",
        "      <td> 20.90</td>\n",
        "      <td> 20.99</td>\n",
        "      <td>  2988200</td>\n",
        "      <td> 20.99</td>\n",
        "      <td> False</td>\n",
        "      <td> medium_gain</td>\n",
        "    </tr>\n",
        "    <tr>\n",
        "      <th>2012-03-06</th>\n",
        "      <td> 19.83</td>\n",
        "      <td> 20.50</td>\n",
        "      <td> 19.36</td>\n",
        "      <td> 20.50</td>\n",
        "      <td>  1154300</td>\n",
        "      <td> 20.50</td>\n",
        "      <td>  True</td>\n",
        "      <td>    negative</td>\n",
        "    </tr>\n",
        "    <tr>\n",
        "      <th>2012-03-07</th>\n",
        "      <td> 20.45</td>\n",
        "      <td> 20.63</td>\n",
        "      <td> 19.95</td>\n",
        "      <td> 20.25</td>\n",
        "      <td>   444800</td>\n",
        "      <td> 20.25</td>\n",
        "      <td> False</td>\n",
        "      <td>  small_gain</td>\n",
        "    </tr>\n",
        "    <tr>\n",
        "      <th>2012-03-08</th>\n",
        "      <td> 20.30</td>\n",
        "      <td> 20.39</td>\n",
        "      <td> 19.96</td>\n",
        "      <td> 20.00</td>\n",
        "      <td>   436900</td>\n",
        "      <td> 20.00</td>\n",
        "      <td> False</td>\n",
        "      <td>  small_gain</td>\n",
        "    </tr>\n",
        "    <tr>\n",
        "      <th>2012-03-09</th>\n",
        "      <td> 20.00</td>\n",
        "      <td> 20.10</td>\n",
        "      <td> 19.50</td>\n",
        "      <td> 19.80</td>\n",
        "      <td>   668200</td>\n",
        "      <td> 19.80</td>\n",
        "      <td> False</td>\n",
        "      <td>  small_gain</td>\n",
        "    </tr>\n",
        "    <tr>\n",
        "      <th>2012-03-12</th>\n",
        "      <td> 19.80</td>\n",
        "      <td> 22.49</td>\n",
        "      <td> 19.52</td>\n",
        "      <td> 22.49</td>\n",
        "      <td>  1358200</td>\n",
        "      <td> 22.49</td>\n",
        "      <td>  True</td>\n",
        "      <td>    negative</td>\n",
        "    </tr>\n",
        "    <tr>\n",
        "      <th>2012-03-13</th>\n",
        "      <td> 22.55</td>\n",
        "      <td> 24.40</td>\n",
        "      <td> 22.20</td>\n",
        "      <td> 23.30</td>\n",
        "      <td>  2053900</td>\n",
        "      <td> 23.30</td>\n",
        "      <td>  True</td>\n",
        "      <td>    negative</td>\n",
        "    </tr>\n",
        "    <tr>\n",
        "      <th>2012-03-14</th>\n",
        "      <td> 23.27</td>\n",
        "      <td> 23.35</td>\n",
        "      <td> 22.20</td>\n",
        "      <td> 22.32</td>\n",
        "      <td>   589600</td>\n",
        "      <td> 22.32</td>\n",
        "      <td> False</td>\n",
        "      <td>  small_gain</td>\n",
        "    </tr>\n",
        "    <tr>\n",
        "      <th>2012-03-15</th>\n",
        "      <td> 22.45</td>\n",
        "      <td> 23.29</td>\n",
        "      <td> 21.36</td>\n",
        "      <td> 21.75</td>\n",
        "      <td>   875600</td>\n",
        "      <td> 21.75</td>\n",
        "      <td> False</td>\n",
        "      <td>  small_gain</td>\n",
        "    </tr>\n",
        "    <tr>\n",
        "      <th>2012-03-16</th>\n",
        "      <td> 21.93</td>\n",
        "      <td> 22.17</td>\n",
        "      <td> 21.06</td>\n",
        "      <td> 21.74</td>\n",
        "      <td>   433600</td>\n",
        "      <td> 21.74</td>\n",
        "      <td> False</td>\n",
        "      <td>  small_gain</td>\n",
        "    </tr>\n",
        "    <tr>\n",
        "      <th>2012-03-19</th>\n",
        "      <td> 22.20</td>\n",
        "      <td> 23.93</td>\n",
        "      <td> 21.70</td>\n",
        "      <td> 22.99</td>\n",
        "      <td>   858400</td>\n",
        "      <td> 22.99</td>\n",
        "      <td>  True</td>\n",
        "      <td>    negative</td>\n",
        "    </tr>\n",
        "    <tr>\n",
        "      <th>2012-03-20</th>\n",
        "      <td> 23.15</td>\n",
        "      <td> 23.47</td>\n",
        "      <td> 22.10</td>\n",
        "      <td> 22.90</td>\n",
        "      <td>   782200</td>\n",
        "      <td> 22.90</td>\n",
        "      <td> False</td>\n",
        "      <td>  small_gain</td>\n",
        "    </tr>\n",
        "    <tr>\n",
        "      <th>2012-03-21</th>\n",
        "      <td> 23.00</td>\n",
        "      <td> 24.10</td>\n",
        "      <td> 22.68</td>\n",
        "      <td> 23.12</td>\n",
        "      <td>  1375000</td>\n",
        "      <td> 23.12</td>\n",
        "      <td>  True</td>\n",
        "      <td>    negative</td>\n",
        "    </tr>\n",
        "    <tr>\n",
        "      <th>2012-03-22</th>\n",
        "      <td> 23.32</td>\n",
        "      <td> 23.32</td>\n",
        "      <td> 22.44</td>\n",
        "      <td> 23.22</td>\n",
        "      <td>   370800</td>\n",
        "      <td> 23.22</td>\n",
        "      <td> False</td>\n",
        "      <td>  small_gain</td>\n",
        "    </tr>\n",
        "    <tr>\n",
        "      <th>2012-03-23</th>\n",
        "      <td> 23.22</td>\n",
        "      <td> 23.25</td>\n",
        "      <td> 22.30</td>\n",
        "      <td> 23.18</td>\n",
        "      <td>   307000</td>\n",
        "      <td> 23.18</td>\n",
        "      <td> False</td>\n",
        "      <td>  small_gain</td>\n",
        "    </tr>\n",
        "    <tr>\n",
        "      <th>2012-03-26</th>\n",
        "      <td> 23.26</td>\n",
        "      <td> 24.88</td>\n",
        "      <td> 23.01</td>\n",
        "      <td> 24.60</td>\n",
        "      <td>  1052000</td>\n",
        "      <td> 24.60</td>\n",
        "      <td>  True</td>\n",
        "      <td>    negative</td>\n",
        "    </tr>\n",
        "    <tr>\n",
        "      <th>2012-03-27</th>\n",
        "      <td> 24.80</td>\n",
        "      <td> 27.75</td>\n",
        "      <td> 24.25</td>\n",
        "      <td> 27.65</td>\n",
        "      <td>  3141300</td>\n",
        "      <td> 27.65</td>\n",
        "      <td>  True</td>\n",
        "      <td>    negative</td>\n",
        "    </tr>\n",
        "    <tr>\n",
        "      <th>2012-03-28</th>\n",
        "      <td> 27.52</td>\n",
        "      <td> 31.96</td>\n",
        "      <td> 27.10</td>\n",
        "      <td> 28.09</td>\n",
        "      <td>  5267300</td>\n",
        "      <td> 28.09</td>\n",
        "      <td>  True</td>\n",
        "      <td>    negative</td>\n",
        "    </tr>\n",
        "    <tr>\n",
        "      <th>2012-03-29</th>\n",
        "      <td> 27.99</td>\n",
        "      <td> 29.78</td>\n",
        "      <td> 27.58</td>\n",
        "      <td> 28.01</td>\n",
        "      <td>  1425200</td>\n",
        "      <td> 28.01</td>\n",
        "      <td>  True</td>\n",
        "      <td>    negative</td>\n",
        "    </tr>\n",
        "    <tr>\n",
        "      <th>2012-03-30</th>\n",
        "      <td> 28.58</td>\n",
        "      <td> 29.27</td>\n",
        "      <td> 25.82</td>\n",
        "      <td> 26.89</td>\n",
        "      <td>  1887200</td>\n",
        "      <td> 26.89</td>\n",
        "      <td> False</td>\n",
        "      <td> medium_gain</td>\n",
        "    </tr>\n",
        "    <tr>\n",
        "      <th>2012-04-02</th>\n",
        "      <td> 26.90</td>\n",
        "      <td> 27.80</td>\n",
        "      <td> 25.27</td>\n",
        "      <td> 27.12</td>\n",
        "      <td>  1166500</td>\n",
        "      <td> 27.12</td>\n",
        "      <td>  True</td>\n",
        "      <td>    negative</td>\n",
        "    </tr>\n",
        "    <tr>\n",
        "      <th>2012-04-03</th>\n",
        "      <td> 27.20</td>\n",
        "      <td> 28.40</td>\n",
        "      <td> 25.92</td>\n",
        "      <td> 26.70</td>\n",
        "      <td>  1384800</td>\n",
        "      <td> 26.70</td>\n",
        "      <td> False</td>\n",
        "      <td>  small_gain</td>\n",
        "    </tr>\n",
        "    <tr>\n",
        "      <th>2012-04-04</th>\n",
        "      <td> 25.94</td>\n",
        "      <td> 27.00</td>\n",
        "      <td> 25.94</td>\n",
        "      <td> 26.16</td>\n",
        "      <td>   440700</td>\n",
        "      <td> 26.16</td>\n",
        "      <td>  True</td>\n",
        "      <td>    negative</td>\n",
        "    </tr>\n",
        "    <tr>\n",
        "      <th>2012-04-05</th>\n",
        "      <td> 25.96</td>\n",
        "      <td> 26.40</td>\n",
        "      <td> 24.02</td>\n",
        "      <td> 24.17</td>\n",
        "      <td>  1352200</td>\n",
        "      <td> 24.17</td>\n",
        "      <td> False</td>\n",
        "      <td> medium_gain</td>\n",
        "    </tr>\n",
        "    <tr>\n",
        "      <th>2012-04-09</th>\n",
        "      <td> 23.86</td>\n",
        "      <td> 25.58</td>\n",
        "      <td> 22.74</td>\n",
        "      <td> 25.22</td>\n",
        "      <td>  1397800</td>\n",
        "      <td> 25.22</td>\n",
        "      <td>  True</td>\n",
        "      <td>    negative</td>\n",
        "    </tr>\n",
        "    <tr>\n",
        "      <th>2012-04-10</th>\n",
        "      <td> 25.45</td>\n",
        "      <td> 26.51</td>\n",
        "      <td> 24.50</td>\n",
        "      <td> 25.81</td>\n",
        "      <td>  1027500</td>\n",
        "      <td> 25.81</td>\n",
        "      <td>  True</td>\n",
        "      <td>    negative</td>\n",
        "    </tr>\n",
        "    <tr>\n",
        "      <th>2012-04-11</th>\n",
        "      <td> 25.47</td>\n",
        "      <td> 26.25</td>\n",
        "      <td> 24.57</td>\n",
        "      <td> 25.43</td>\n",
        "      <td>  1004200</td>\n",
        "      <td> 25.43</td>\n",
        "      <td> False</td>\n",
        "      <td>  small_gain</td>\n",
        "    </tr>\n",
        "    <tr>\n",
        "      <th>2012-04-12</th>\n",
        "      <td> 25.21</td>\n",
        "      <td> 26.44</td>\n",
        "      <td> 25.17</td>\n",
        "      <td> 26.20</td>\n",
        "      <td>   728000</td>\n",
        "      <td> 26.20</td>\n",
        "      <td>  True</td>\n",
        "      <td>    negative</td>\n",
        "    </tr>\n",
        "    <tr>\n",
        "      <th>2012-04-13</th>\n",
        "      <td> 26.00</td>\n",
        "      <td> 26.97</td>\n",
        "      <td> 25.44</td>\n",
        "      <td> 26.33</td>\n",
        "      <td>   508200</td>\n",
        "      <td> 26.33</td>\n",
        "      <td>  True</td>\n",
        "      <td>    negative</td>\n",
        "    </tr>\n",
        "    <tr>\n",
        "      <th>...</th>\n",
        "      <td>...</td>\n",
        "      <td>...</td>\n",
        "      <td>...</td>\n",
        "      <td>...</td>\n",
        "      <td>...</td>\n",
        "      <td>...</td>\n",
        "      <td>...</td>\n",
        "      <td>...</td>\n",
        "    </tr>\n",
        "    <tr>\n",
        "      <th>2014-12-29</th>\n",
        "      <td> 52.77</td>\n",
        "      <td> 53.86</td>\n",
        "      <td> 52.52</td>\n",
        "      <td> 53.01</td>\n",
        "      <td>  1181500</td>\n",
        "      <td> 53.01</td>\n",
        "      <td>  True</td>\n",
        "      <td>    negative</td>\n",
        "    </tr>\n",
        "    <tr>\n",
        "      <th>2014-12-30</th>\n",
        "      <td> 53.09</td>\n",
        "      <td> 54.95</td>\n",
        "      <td> 52.85</td>\n",
        "      <td> 54.24</td>\n",
        "      <td>  2336800</td>\n",
        "      <td> 54.24</td>\n",
        "      <td>  True</td>\n",
        "      <td>    negative</td>\n",
        "    </tr>\n",
        "    <tr>\n",
        "      <th>2014-12-31</th>\n",
        "      <td> 54.71</td>\n",
        "      <td> 55.57</td>\n",
        "      <td> 54.16</td>\n",
        "      <td> 54.73</td>\n",
        "      <td>  1858000</td>\n",
        "      <td> 54.73</td>\n",
        "      <td>  True</td>\n",
        "      <td>    negative</td>\n",
        "    </tr>\n",
        "    <tr>\n",
        "      <th>2015-01-02</th>\n",
        "      <td> 55.46</td>\n",
        "      <td> 55.60</td>\n",
        "      <td> 54.24</td>\n",
        "      <td> 55.15</td>\n",
        "      <td>  1664500</td>\n",
        "      <td> 55.15</td>\n",
        "      <td> False</td>\n",
        "      <td>  small_gain</td>\n",
        "    </tr>\n",
        "    <tr>\n",
        "      <th>2015-01-05</th>\n",
        "      <td> 54.54</td>\n",
        "      <td> 54.95</td>\n",
        "      <td> 52.33</td>\n",
        "      <td> 52.53</td>\n",
        "      <td>  2023000</td>\n",
        "      <td> 52.53</td>\n",
        "      <td> False</td>\n",
        "      <td> medium_gain</td>\n",
        "    </tr>\n",
        "    <tr>\n",
        "      <th>2015-01-06</th>\n",
        "      <td> 52.55</td>\n",
        "      <td> 53.93</td>\n",
        "      <td> 50.75</td>\n",
        "      <td> 52.44</td>\n",
        "      <td>  3751200</td>\n",
        "      <td> 52.44</td>\n",
        "      <td> False</td>\n",
        "      <td>  small_gain</td>\n",
        "    </tr>\n",
        "    <tr>\n",
        "      <th>2015-01-07</th>\n",
        "      <td> 53.32</td>\n",
        "      <td> 53.75</td>\n",
        "      <td> 51.76</td>\n",
        "      <td> 52.21</td>\n",
        "      <td>  1548200</td>\n",
        "      <td> 52.21</td>\n",
        "      <td> False</td>\n",
        "      <td> medium_gain</td>\n",
        "    </tr>\n",
        "    <tr>\n",
        "      <th>2015-01-08</th>\n",
        "      <td> 52.59</td>\n",
        "      <td> 54.14</td>\n",
        "      <td> 51.76</td>\n",
        "      <td> 53.83</td>\n",
        "      <td>  2015300</td>\n",
        "      <td> 53.83</td>\n",
        "      <td>  True</td>\n",
        "      <td>    negative</td>\n",
        "    </tr>\n",
        "    <tr>\n",
        "      <th>2015-01-09</th>\n",
        "      <td> 55.96</td>\n",
        "      <td> 56.99</td>\n",
        "      <td> 54.72</td>\n",
        "      <td> 56.07</td>\n",
        "      <td>  6222600</td>\n",
        "      <td> 56.07</td>\n",
        "      <td>  True</td>\n",
        "      <td>    negative</td>\n",
        "    </tr>\n",
        "    <tr>\n",
        "      <th>2015-01-12</th>\n",
        "      <td> 56.00</td>\n",
        "      <td> 56.06</td>\n",
        "      <td> 53.43</td>\n",
        "      <td> 54.02</td>\n",
        "      <td>  2405100</td>\n",
        "      <td> 54.02</td>\n",
        "      <td> False</td>\n",
        "      <td> medium_gain</td>\n",
        "    </tr>\n",
        "    <tr>\n",
        "      <th>2015-01-13</th>\n",
        "      <td> 54.47</td>\n",
        "      <td> 54.80</td>\n",
        "      <td> 52.52</td>\n",
        "      <td> 53.18</td>\n",
        "      <td>  1952100</td>\n",
        "      <td> 53.18</td>\n",
        "      <td> False</td>\n",
        "      <td> medium_gain</td>\n",
        "    </tr>\n",
        "    <tr>\n",
        "      <th>2015-01-14</th>\n",
        "      <td> 52.80</td>\n",
        "      <td> 53.68</td>\n",
        "      <td> 51.46</td>\n",
        "      <td> 52.20</td>\n",
        "      <td>  1846100</td>\n",
        "      <td> 52.20</td>\n",
        "      <td> False</td>\n",
        "      <td>  small_gain</td>\n",
        "    </tr>\n",
        "    <tr>\n",
        "      <th>2015-01-15</th>\n",
        "      <td> 53.00</td>\n",
        "      <td> 53.61</td>\n",
        "      <td> 50.03</td>\n",
        "      <td> 50.12</td>\n",
        "      <td>  2640400</td>\n",
        "      <td> 50.12</td>\n",
        "      <td> False</td>\n",
        "      <td> medium_gain</td>\n",
        "    </tr>\n",
        "    <tr>\n",
        "      <th>2015-01-16</th>\n",
        "      <td> 50.18</td>\n",
        "      <td> 51.49</td>\n",
        "      <td> 50.03</td>\n",
        "      <td> 51.39</td>\n",
        "      <td>  2183300</td>\n",
        "      <td> 51.39</td>\n",
        "      <td>  True</td>\n",
        "      <td>    negative</td>\n",
        "    </tr>\n",
        "    <tr>\n",
        "      <th>2015-01-20</th>\n",
        "      <td> 51.65</td>\n",
        "      <td> 51.78</td>\n",
        "      <td> 50.69</td>\n",
        "      <td> 51.41</td>\n",
        "      <td>  1227600</td>\n",
        "      <td> 51.41</td>\n",
        "      <td> False</td>\n",
        "      <td>  small_gain</td>\n",
        "    </tr>\n",
        "    <tr>\n",
        "      <th>2015-01-21</th>\n",
        "      <td> 51.20</td>\n",
        "      <td> 53.50</td>\n",
        "      <td> 51.20</td>\n",
        "      <td> 53.41</td>\n",
        "      <td>  3248100</td>\n",
        "      <td> 53.41</td>\n",
        "      <td>  True</td>\n",
        "      <td>    negative</td>\n",
        "    </tr>\n",
        "    <tr>\n",
        "      <th>2015-01-22</th>\n",
        "      <td> 53.87</td>\n",
        "      <td> 55.28</td>\n",
        "      <td> 53.12</td>\n",
        "      <td> 54.80</td>\n",
        "      <td>  2295400</td>\n",
        "      <td> 54.80</td>\n",
        "      <td>  True</td>\n",
        "      <td>    negative</td>\n",
        "    </tr>\n",
        "    <tr>\n",
        "      <th>2015-01-23</th>\n",
        "      <td> 54.66</td>\n",
        "      <td> 55.64</td>\n",
        "      <td> 54.30</td>\n",
        "      <td> 55.19</td>\n",
        "      <td>  1629000</td>\n",
        "      <td> 55.19</td>\n",
        "      <td>  True</td>\n",
        "      <td>    negative</td>\n",
        "    </tr>\n",
        "    <tr>\n",
        "      <th>2015-01-26</th>\n",
        "      <td> 55.12</td>\n",
        "      <td> 55.79</td>\n",
        "      <td> 54.83</td>\n",
        "      <td> 55.41</td>\n",
        "      <td>  1450300</td>\n",
        "      <td> 55.41</td>\n",
        "      <td>  True</td>\n",
        "      <td>    negative</td>\n",
        "    </tr>\n",
        "    <tr>\n",
        "      <th>2015-01-27</th>\n",
        "      <td> 56.06</td>\n",
        "      <td> 56.16</td>\n",
        "      <td> 54.57</td>\n",
        "      <td> 55.63</td>\n",
        "      <td>  2403700</td>\n",
        "      <td> 55.63</td>\n",
        "      <td> False</td>\n",
        "      <td>  small_gain</td>\n",
        "    </tr>\n",
        "    <tr>\n",
        "      <th>2015-01-28</th>\n",
        "      <td> 56.15</td>\n",
        "      <td> 56.15</td>\n",
        "      <td> 52.92</td>\n",
        "      <td> 53.00</td>\n",
        "      <td>  2002700</td>\n",
        "      <td> 53.00</td>\n",
        "      <td> False</td>\n",
        "      <td> medium_gain</td>\n",
        "    </tr>\n",
        "    <tr>\n",
        "      <th>2015-01-29</th>\n",
        "      <td> 52.85</td>\n",
        "      <td> 53.31</td>\n",
        "      <td> 51.41</td>\n",
        "      <td> 52.93</td>\n",
        "      <td>  1838000</td>\n",
        "      <td> 52.93</td>\n",
        "      <td>  True</td>\n",
        "      <td>    negative</td>\n",
        "    </tr>\n",
        "    <tr>\n",
        "      <th>2015-01-30</th>\n",
        "      <td> 52.59</td>\n",
        "      <td> 53.42</td>\n",
        "      <td> 52.05</td>\n",
        "      <td> 52.47</td>\n",
        "      <td>  1873900</td>\n",
        "      <td> 52.47</td>\n",
        "      <td> False</td>\n",
        "      <td>  small_gain</td>\n",
        "    </tr>\n",
        "    <tr>\n",
        "      <th>2015-02-02</th>\n",
        "      <td> 52.94</td>\n",
        "      <td> 53.50</td>\n",
        "      <td> 51.21</td>\n",
        "      <td> 53.47</td>\n",
        "      <td>  2105500</td>\n",
        "      <td> 53.47</td>\n",
        "      <td>  True</td>\n",
        "      <td>    negative</td>\n",
        "    </tr>\n",
        "    <tr>\n",
        "      <th>2015-02-03</th>\n",
        "      <td> 53.83</td>\n",
        "      <td> 55.93</td>\n",
        "      <td> 53.41</td>\n",
        "      <td> 55.78</td>\n",
        "      <td>  2876400</td>\n",
        "      <td> 55.78</td>\n",
        "      <td>  True</td>\n",
        "      <td>    negative</td>\n",
        "    </tr>\n",
        "    <tr>\n",
        "      <th>2015-02-04</th>\n",
        "      <td> 55.53</td>\n",
        "      <td> 57.07</td>\n",
        "      <td> 55.25</td>\n",
        "      <td> 56.74</td>\n",
        "      <td>  2494400</td>\n",
        "      <td> 56.74</td>\n",
        "      <td>  True</td>\n",
        "      <td>    negative</td>\n",
        "    </tr>\n",
        "    <tr>\n",
        "      <th>2015-02-05</th>\n",
        "      <td> 57.60</td>\n",
        "      <td> 57.70</td>\n",
        "      <td> 56.08</td>\n",
        "      <td> 57.47</td>\n",
        "      <td>  4195400</td>\n",
        "      <td> 57.47</td>\n",
        "      <td> False</td>\n",
        "      <td>  small_gain</td>\n",
        "    </tr>\n",
        "    <tr>\n",
        "      <th>2015-02-06</th>\n",
        "      <td> 47.70</td>\n",
        "      <td> 48.17</td>\n",
        "      <td> 44.86</td>\n",
        "      <td> 45.11</td>\n",
        "      <td> 25137400</td>\n",
        "      <td> 45.11</td>\n",
        "      <td> False</td>\n",
        "      <td> medium_gain</td>\n",
        "    </tr>\n",
        "    <tr>\n",
        "      <th>2015-02-09</th>\n",
        "      <td> 44.91</td>\n",
        "      <td> 45.04</td>\n",
        "      <td> 42.10</td>\n",
        "      <td> 42.17</td>\n",
        "      <td> 13044700</td>\n",
        "      <td> 42.17</td>\n",
        "      <td> False</td>\n",
        "      <td> medium_gain</td>\n",
        "    </tr>\n",
        "    <tr>\n",
        "      <th>2015-02-10</th>\n",
        "      <td> 43.83</td>\n",
        "      <td> 45.55</td>\n",
        "      <td> 43.31</td>\n",
        "      <td> 44.66</td>\n",
        "      <td> 11247800</td>\n",
        "      <td> 44.66</td>\n",
        "      <td>  True</td>\n",
        "      <td>    negative</td>\n",
        "    </tr>\n",
        "  </tbody>\n",
        "</table>\n",
        "<p>740 rows \u00d7 8 columns</p>\n",
        "</div>"
       ],
       "metadata": {},
       "output_type": "pyout",
       "prompt_number": 71,
       "text": [
        "             open   high    low  close    volume  adj_close profit  \\\n",
        "date                                                                 \n",
        "2012-03-02  22.01  26.00  22.00  24.58   4809400      24.58   True   \n",
        "2012-03-05  24.85  24.86  20.90  20.99   2988200      20.99  False   \n",
        "2012-03-06  19.83  20.50  19.36  20.50   1154300      20.50   True   \n",
        "2012-03-07  20.45  20.63  19.95  20.25    444800      20.25  False   \n",
        "2012-03-08  20.30  20.39  19.96  20.00    436900      20.00  False   \n",
        "2012-03-09  20.00  20.10  19.50  19.80    668200      19.80  False   \n",
        "2012-03-12  19.80  22.49  19.52  22.49   1358200      22.49   True   \n",
        "2012-03-13  22.55  24.40  22.20  23.30   2053900      23.30   True   \n",
        "2012-03-14  23.27  23.35  22.20  22.32    589600      22.32  False   \n",
        "2012-03-15  22.45  23.29  21.36  21.75    875600      21.75  False   \n",
        "2012-03-16  21.93  22.17  21.06  21.74    433600      21.74  False   \n",
        "2012-03-19  22.20  23.93  21.70  22.99    858400      22.99   True   \n",
        "2012-03-20  23.15  23.47  22.10  22.90    782200      22.90  False   \n",
        "2012-03-21  23.00  24.10  22.68  23.12   1375000      23.12   True   \n",
        "2012-03-22  23.32  23.32  22.44  23.22    370800      23.22  False   \n",
        "2012-03-23  23.22  23.25  22.30  23.18    307000      23.18  False   \n",
        "2012-03-26  23.26  24.88  23.01  24.60   1052000      24.60   True   \n",
        "2012-03-27  24.80  27.75  24.25  27.65   3141300      27.65   True   \n",
        "2012-03-28  27.52  31.96  27.10  28.09   5267300      28.09   True   \n",
        "2012-03-29  27.99  29.78  27.58  28.01   1425200      28.01   True   \n",
        "2012-03-30  28.58  29.27  25.82  26.89   1887200      26.89  False   \n",
        "2012-04-02  26.90  27.80  25.27  27.12   1166500      27.12   True   \n",
        "2012-04-03  27.20  28.40  25.92  26.70   1384800      26.70  False   \n",
        "2012-04-04  25.94  27.00  25.94  26.16    440700      26.16   True   \n",
        "2012-04-05  25.96  26.40  24.02  24.17   1352200      24.17  False   \n",
        "2012-04-09  23.86  25.58  22.74  25.22   1397800      25.22   True   \n",
        "2012-04-10  25.45  26.51  24.50  25.81   1027500      25.81   True   \n",
        "2012-04-11  25.47  26.25  24.57  25.43   1004200      25.43  False   \n",
        "2012-04-12  25.21  26.44  25.17  26.20    728000      26.20   True   \n",
        "2012-04-13  26.00  26.97  25.44  26.33    508200      26.33   True   \n",
        "...           ...    ...    ...    ...       ...        ...    ...   \n",
        "2014-12-29  52.77  53.86  52.52  53.01   1181500      53.01   True   \n",
        "2014-12-30  53.09  54.95  52.85  54.24   2336800      54.24   True   \n",
        "2014-12-31  54.71  55.57  54.16  54.73   1858000      54.73   True   \n",
        "2015-01-02  55.46  55.60  54.24  55.15   1664500      55.15  False   \n",
        "2015-01-05  54.54  54.95  52.33  52.53   2023000      52.53  False   \n",
        "2015-01-06  52.55  53.93  50.75  52.44   3751200      52.44  False   \n",
        "2015-01-07  53.32  53.75  51.76  52.21   1548200      52.21  False   \n",
        "2015-01-08  52.59  54.14  51.76  53.83   2015300      53.83   True   \n",
        "2015-01-09  55.96  56.99  54.72  56.07   6222600      56.07   True   \n",
        "2015-01-12  56.00  56.06  53.43  54.02   2405100      54.02  False   \n",
        "2015-01-13  54.47  54.80  52.52  53.18   1952100      53.18  False   \n",
        "2015-01-14  52.80  53.68  51.46  52.20   1846100      52.20  False   \n",
        "2015-01-15  53.00  53.61  50.03  50.12   2640400      50.12  False   \n",
        "2015-01-16  50.18  51.49  50.03  51.39   2183300      51.39   True   \n",
        "2015-01-20  51.65  51.78  50.69  51.41   1227600      51.41  False   \n",
        "2015-01-21  51.20  53.50  51.20  53.41   3248100      53.41   True   \n",
        "2015-01-22  53.87  55.28  53.12  54.80   2295400      54.80   True   \n",
        "2015-01-23  54.66  55.64  54.30  55.19   1629000      55.19   True   \n",
        "2015-01-26  55.12  55.79  54.83  55.41   1450300      55.41   True   \n",
        "2015-01-27  56.06  56.16  54.57  55.63   2403700      55.63  False   \n",
        "2015-01-28  56.15  56.15  52.92  53.00   2002700      53.00  False   \n",
        "2015-01-29  52.85  53.31  51.41  52.93   1838000      52.93   True   \n",
        "2015-01-30  52.59  53.42  52.05  52.47   1873900      52.47  False   \n",
        "2015-02-02  52.94  53.50  51.21  53.47   2105500      53.47   True   \n",
        "2015-02-03  53.83  55.93  53.41  55.78   2876400      55.78   True   \n",
        "2015-02-04  55.53  57.07  55.25  56.74   2494400      56.74   True   \n",
        "2015-02-05  57.60  57.70  56.08  57.47   4195400      57.47  False   \n",
        "2015-02-06  47.70  48.17  44.86  45.11  25137400      45.11  False   \n",
        "2015-02-09  44.91  45.04  42.10  42.17  13044700      42.17  False   \n",
        "2015-02-10  43.83  45.55  43.31  44.66  11247800      44.66   True   \n",
        "\n",
        "                   gain  \n",
        "date                     \n",
        "2012-03-02     negative  \n",
        "2012-03-05  medium_gain  \n",
        "2012-03-06     negative  \n",
        "2012-03-07   small_gain  \n",
        "2012-03-08   small_gain  \n",
        "2012-03-09   small_gain  \n",
        "2012-03-12     negative  \n",
        "2012-03-13     negative  \n",
        "2012-03-14   small_gain  \n",
        "2012-03-15   small_gain  \n",
        "2012-03-16   small_gain  \n",
        "2012-03-19     negative  \n",
        "2012-03-20   small_gain  \n",
        "2012-03-21     negative  \n",
        "2012-03-22   small_gain  \n",
        "2012-03-23   small_gain  \n",
        "2012-03-26     negative  \n",
        "2012-03-27     negative  \n",
        "2012-03-28     negative  \n",
        "2012-03-29     negative  \n",
        "2012-03-30  medium_gain  \n",
        "2012-04-02     negative  \n",
        "2012-04-03   small_gain  \n",
        "2012-04-04     negative  \n",
        "2012-04-05  medium_gain  \n",
        "2012-04-09     negative  \n",
        "2012-04-10     negative  \n",
        "2012-04-11   small_gain  \n",
        "2012-04-12     negative  \n",
        "2012-04-13     negative  \n",
        "...                 ...  \n",
        "2014-12-29     negative  \n",
        "2014-12-30     negative  \n",
        "2014-12-31     negative  \n",
        "2015-01-02   small_gain  \n",
        "2015-01-05  medium_gain  \n",
        "2015-01-06   small_gain  \n",
        "2015-01-07  medium_gain  \n",
        "2015-01-08     negative  \n",
        "2015-01-09     negative  \n",
        "2015-01-12  medium_gain  \n",
        "2015-01-13  medium_gain  \n",
        "2015-01-14   small_gain  \n",
        "2015-01-15  medium_gain  \n",
        "2015-01-16     negative  \n",
        "2015-01-20   small_gain  \n",
        "2015-01-21     negative  \n",
        "2015-01-22     negative  \n",
        "2015-01-23     negative  \n",
        "2015-01-26     negative  \n",
        "2015-01-27   small_gain  \n",
        "2015-01-28  medium_gain  \n",
        "2015-01-29     negative  \n",
        "2015-01-30   small_gain  \n",
        "2015-02-02     negative  \n",
        "2015-02-03     negative  \n",
        "2015-02-04     negative  \n",
        "2015-02-05   small_gain  \n",
        "2015-02-06  medium_gain  \n",
        "2015-02-09  medium_gain  \n",
        "2015-02-10     negative  \n",
        "\n",
        "[740 rows x 8 columns]"
       ]
      }
     ],
     "prompt_number": 71
    },
    {
     "cell_type": "heading",
     "level": 2,
     "metadata": {},
     "source": [
      "Grouping"
     ]
    },
    {
     "cell_type": "markdown",
     "metadata": {},
     "source": [
      "Besides **apply()**, another great DataFrame function is **groupby()**. It will group a DataFrame by one or more columns, and let you iterate through each group.\n",
      "\n",
      "Here we will show the average gain among the three categories of negative, small, medium and large gains we defined above and stored in column ``gain\""
     ]
    },
    {
     "cell_type": "code",
     "collapsed": false,
     "input": [
      "gains = {}\n",
      "for gain, gain_data in df.groupby(\"gain\"):\n",
      "    gains[gain] = gain_data.close.mean()\n",
      "gains"
     ],
     "language": "python",
     "metadata": {},
     "outputs": [
      {
       "metadata": {},
       "output_type": "pyout",
       "prompt_number": 73,
       "text": [
        "{'large_gain': 89.459999999999994,\n",
        " 'medium_gain': 57.741688311688307,\n",
        " 'negative': 46.672777777777782,\n",
        " 'small_gain': 38.142657004830909}"
       ]
      }
     ],
     "prompt_number": 73
    },
    {
     "cell_type": "markdown",
     "metadata": {},
     "source": [
      "gain is a dict and gain_data is a dataframe for each group"
     ]
    },
    {
     "cell_type": "markdown",
     "metadata": {},
     "source": []
    },
    {
     "cell_type": "heading",
     "level": 2,
     "metadata": {},
     "source": [
      "Comparing multiple stocks"
     ]
    },
    {
     "cell_type": "markdown",
     "metadata": {},
     "source": [
      "As a last task, we will use the experience we obtained so far -- and learn some new things -- in order to compare the performance of different stocks we obtained from Yahoo finance."
     ]
    },
    {
     "cell_type": "code",
     "collapsed": false,
     "input": [
      "stocks = ['ORCL', 'TSLA', 'IBM','YELP', 'MSFT']\n",
      "attr = 'Close'\n",
      "df = pd.io.data.get_data_yahoo(stocks, \n",
      "                               start=datetime(2014, 1, 1), \n",
      "                               end=datetime(2014, 12, 31))[attr]\n",
      "print df.head()"
     ],
     "language": "python",
     "metadata": {},
     "outputs": [
      {
       "output_type": "stream",
       "stream": "stdout",
       "text": [
        "               IBM   MSFT   ORCL    TSLA   YELP\n",
        "Date                                           \n",
        "2014-01-02  185.53  37.16  37.84  150.10  67.92\n",
        "2014-01-03  186.64  36.91  37.62  149.56  67.66\n",
        "2014-01-06  186.00  36.13  37.47  147.00  71.72\n",
        "2014-01-07  189.71  36.41  37.85  149.36  72.66\n",
        "2014-01-08  187.97  35.76  37.72  151.28  78.42\n"
       ]
      }
     ],
     "prompt_number": 74
    },
    {
     "cell_type": "code",
     "collapsed": false,
     "input": [
      "df.ORCL.plot(label = 'oracle')\n",
      "df.TSLA.plot(label = 'tesla')\n",
      "df.IBM.plot(label = 'ibm')\n",
      "df.MSFT.plot(label = 'msft')\n",
      "df.YELP.plot(label = 'yelp')\n",
      "plt.legend(loc=5)"
     ],
     "language": "python",
     "metadata": {},
     "outputs": [
      {
       "metadata": {},
       "output_type": "pyout",
       "prompt_number": 75,
       "text": [
        "<matplotlib.legend.Legend at 0xcca2c50>"
       ]
      },
      {
       "metadata": {},
       "output_type": "display_data",
       "png": "[encoded data removed]",
       "text": [
        "<matplotlib.figure.Figure at 0xbde8fd0>"
       ]
      }
     ],
     "prompt_number": 75
    },
    {
     "cell_type": "heading",
     "level": 4,
     "metadata": {},
     "source": [
      "Calculating returns over a period of length T"
     ]
    },
    {
     "cell_type": "markdown",
     "metadata": {},
     "source": [
      "$$r(t) = \\frac{f(t)-f(t-T)}{f(t)} $$\n",
      "\n",
      "The returns can be computed in python with a simple function **pct_returns( ) **"
     ]
    },
    {
     "cell_type": "code",
     "collapsed": false,
     "input": [
      "rets = df.pct_change(30)\n",
      "print rets.tail()"
     ],
     "language": "python",
     "metadata": {},
     "outputs": [
      {
       "output_type": "stream",
       "stream": "stdout",
       "text": [
        "                 IBM      MSFT      ORCL      TSLA      YELP\n",
        "Date                                                        \n",
        "2014-12-24 -0.009063 -0.014938  0.142328 -0.114784 -0.149414\n",
        "2014-12-26  0.002594 -0.018450  0.148480 -0.085428 -0.126114\n",
        "2014-12-29 -0.014006 -0.043540  0.120088 -0.103258 -0.087608\n",
        "2014-12-30 -0.025037 -0.051634  0.110186 -0.141294 -0.093280\n",
        "2014-12-31 -0.022661 -0.060857  0.092566 -0.124301 -0.056379\n"
       ]
      }
     ],
     "prompt_number": 84
    },
    {
     "cell_type": "markdown",
     "metadata": {},
     "source": [
      "Plotting again the timeseries of the returns of the different stocks"
     ]
    },
    {
     "cell_type": "code",
     "collapsed": false,
     "input": [
      "rets.ORCL.plot(label = 'oracle')\n",
      "rets.TSLA.plot(label = 'tesla')\n",
      "rets.IBM.plot(label = 'ibm')\n",
      "rets.MSFT.plot(label = 'msft')\n",
      "rets.YELP.plot(label = 'yelp')\n",
      "plt.legend()"
     ],
     "language": "python",
     "metadata": {},
     "outputs": [
      {
       "metadata": {},
       "output_type": "pyout",
       "prompt_number": 85,
       "text": [
        "<matplotlib.legend.Legend at 0xcb887f0>"
       ]
      },
      {
       "metadata": {},
       "output_type": "display_data",
       "png": "[encoded data removed]",
       "text": [
        "<matplotlib.figure.Figure at 0xcb88b00>"
       ]
      }
     ],
     "prompt_number": 85
    },
    {
     "cell_type": "code",
     "collapsed": false,
     "input": [
      "plt.scatter(rets.YELP, rets.TSLA)\n",
      "plt.xlabel('Returns YELP')\n",
      "plt.ylabel('Returns TESLA')"
     ],
     "language": "python",
     "metadata": {},
     "outputs": [
      {
       "metadata": {},
       "output_type": "pyout",
       "prompt_number": 95,
       "text": [
        "<matplotlib.text.Text at 0xdd57908>"
       ]
      },
      {
       "metadata": {},
       "output_type": "display_data",
       "png": "[encoded data removed]",
       "text": [
        "<matplotlib.figure.Figure at 0xdc429b0>"
       ]
      }
     ],
     "prompt_number": 95
    },
    {
     "cell_type": "heading",
     "level": 4,
     "metadata": {},
     "source": [
      "Correlations of columns"
     ]
    },
    {
     "cell_type": "markdown",
     "metadata": {},
     "source": [
      "The correlation coefficient between variables $X$ and $Y$ is defined as follows:\n",
      "$$\\text{Corr}(X,Y) = \\frac{E\\left[(X-\\mu_X)(Y-\\mu_Y)\\right]}{\\sigma_X\\sigma_Y}$$\n",
      "\n",
      "In python we can compute the correlation coefficient of all pairs of columns with **corr( )**"
     ]
    },
    {
     "cell_type": "code",
     "collapsed": false,
     "input": [
      "corr = rets.corr()\n",
      "print corr"
     ],
     "language": "python",
     "metadata": {},
     "outputs": [
      {
       "output_type": "stream",
       "stream": "stdout",
       "text": [
        "           IBM      MSFT      ORCL      TSLA      YELP\n",
        "IBM   1.000000  0.340422  0.025742  0.196504  0.104776\n",
        "MSFT  0.340422  1.000000  0.114090  0.415763  0.262595\n",
        "ORCL  0.025742  0.114090  1.000000  0.000964 -0.084176\n",
        "TSLA  0.196504  0.415763  0.000964  1.000000  0.768504\n",
        "YELP  0.104776  0.262595 -0.084176  0.768504  1.000000\n"
       ]
      }
     ],
     "prompt_number": 88
    },
    {
     "cell_type": "heading",
     "level": 4,
     "metadata": {},
     "source": [
      "Visualizing the correlation coefficient of all columns"
     ]
    },
    {
     "cell_type": "markdown",
     "metadata": {},
     "source": [
      "We will learn more about visualization later, but for now this is a simple example"
     ]
    },
    {
     "cell_type": "code",
     "collapsed": false,
     "input": [
      "sns.heatmap(corr, annot=True)"
     ],
     "language": "python",
     "metadata": {},
     "outputs": [
      {
       "metadata": {},
       "output_type": "pyout",
       "prompt_number": 98,
       "text": [
        "<matplotlib.axes._subplots.AxesSubplot at 0xd844390>"
       ]
      },
      {
       "metadata": {},
       "output_type": "display_data",
       "png": "[encoded data removed]",
       "text": [
        "<matplotlib.figure.Figure at 0x1765d6d8>"
       ]
      }
     ],
     "prompt_number": 98
    },
    {
     "cell_type": "heading",
     "level": 4,
     "metadata": {},
     "source": [
      "Returns vs risk (standard deviation)\n"
     ]
    },
    {
     "cell_type": "markdown",
     "metadata": {},
     "source": [
      "In many applications, we want to know both the returns as well as the standard deviation of the returns of a stock (i.e., its risk).  Below we visualize the result of such an analysis"
     ]
    },
    {
     "cell_type": "code",
     "collapsed": false,
     "input": [
      "plt.scatter(rets.mean(), rets.std())\n",
      "plt.xlabel('Expected returns')\n",
      "plt.ylabel('Standard Deviation (Risk)')\n",
      "for label, x, y in zip(rets.columns, rets.mean(), rets.std()):\n",
      "    plt.annotate(\n",
      "        label, \n",
      "        xy = (x, y), xytext = (20, -20),\n",
      "        textcoords = 'offset points', ha = 'right', va = 'bottom',\n",
      "        bbox = dict(boxstyle = 'round,pad=0.5', fc = 'yellow', alpha = 0.5),\n",
      "        arrowprops = dict(arrowstyle = '->', connectionstyle = 'arc3,rad=0'))"
     ],
     "language": "python",
     "metadata": {},
     "outputs": [
      {
       "ename": "NameError",
       "evalue": "name 'plt' is not defined",
       "output_type": "pyerr",
       "traceback": [
        "\u001b[1;31m---------------------------------------------------------------------------\u001b[0m\n\u001b[1;31mNameError\u001b[0m                                 Traceback (most recent call last)",
        "\u001b[1;32m<ipython-input-1-fdc0a0d055b6>\u001b[0m in \u001b[0;36m<module>\u001b[1;34m()\u001b[0m\n\u001b[1;32m----> 1\u001b[1;33m \u001b[0mplt\u001b[0m\u001b[1;33m.\u001b[0m\u001b[0mscatter\u001b[0m\u001b[1;33m(\u001b[0m\u001b[0mrets\u001b[0m\u001b[1;33m.\u001b[0m\u001b[0mmean\u001b[0m\u001b[1;33m(\u001b[0m\u001b[1;33m)\u001b[0m\u001b[1;33m,\u001b[0m \u001b[0mrets\u001b[0m\u001b[1;33m.\u001b[0m\u001b[0mstd\u001b[0m\u001b[1;33m(\u001b[0m\u001b[1;33m)\u001b[0m\u001b[1;33m)\u001b[0m\u001b[1;33m\u001b[0m\u001b[0m\n\u001b[0m\u001b[0;32m      2\u001b[0m \u001b[0mplt\u001b[0m\u001b[1;33m.\u001b[0m\u001b[0mxlabel\u001b[0m\u001b[1;33m(\u001b[0m\u001b[1;34m'Expected returns'\u001b[0m\u001b[1;33m)\u001b[0m\u001b[1;33m\u001b[0m\u001b[0m\n\u001b[0;32m      3\u001b[0m \u001b[0mplt\u001b[0m\u001b[1;33m.\u001b[0m\u001b[0mylabel\u001b[0m\u001b[1;33m(\u001b[0m\u001b[1;34m'Standard Deviation (Risk)'\u001b[0m\u001b[1;33m)\u001b[0m\u001b[1;33m\u001b[0m\u001b[0m\n\u001b[0;32m      4\u001b[0m \u001b[1;32mfor\u001b[0m \u001b[0mlabel\u001b[0m\u001b[1;33m,\u001b[0m \u001b[0mx\u001b[0m\u001b[1;33m,\u001b[0m \u001b[0my\u001b[0m \u001b[1;32min\u001b[0m \u001b[0mzip\u001b[0m\u001b[1;33m(\u001b[0m\u001b[0mrets\u001b[0m\u001b[1;33m.\u001b[0m\u001b[0mcolumns\u001b[0m\u001b[1;33m,\u001b[0m \u001b[0mrets\u001b[0m\u001b[1;33m.\u001b[0m\u001b[0mmean\u001b[0m\u001b[1;33m(\u001b[0m\u001b[1;33m)\u001b[0m\u001b[1;33m,\u001b[0m \u001b[0mrets\u001b[0m\u001b[1;33m.\u001b[0m\u001b[0mstd\u001b[0m\u001b[1;33m(\u001b[0m\u001b[1;33m)\u001b[0m\u001b[1;33m)\u001b[0m\u001b[1;33m:\u001b[0m\u001b[1;33m\u001b[0m\u001b[0m\n\u001b[0;32m      5\u001b[0m     plt.annotate(\n",
        "\u001b[1;31mNameError\u001b[0m: name 'plt' is not defined"
       ]
      }
     ],
     "prompt_number": 1
    },
    {
     "cell_type": "code",
     "collapsed": false,
     "input": [
      "# Code for setting the style of the notebook\n",
      "from IPython.core.display import HTML\n",
      "def css_styling():\n",
      "    styles = open(\"../theme/custom.css\", \"r\").read()\n",
      "    return HTML(styles)\n",
      "css_styling()"
     ],
     "language": "python",
     "metadata": {},
     "outputs": [
      {
       "html": [
        "<link href='http://fonts.googleapis.com/css?family=EB+Garamond' rel='stylesheet' type='text/css'>\n",
        "<link href='http://fonts.googleapis.com/css?family=Alegreya+Sans:100,300,400,500,700,800,900,100italic,300italic,400italic,500italic,700italic,800italic,900italic' rel='stylesheet' type='text/css'>\n",
        "<link href='http://fonts.googleapis.com/css?family=Source+Code+Pro:300,400' rel='stylesheet' type='text/css'>\n",
        "<style>\n",
        "    @font-face {\n",
        "        font-family: \"Computer Modern\";\n",
        "        src: url('http://mirrors.ctan.org/fonts/cm-unicode/fonts/otf/cmunss.otf');\n",
        "    }\n",
        "    .code_cell {\n",
        "        width: 105ex !important ;\n",
        "        margin-bottom: 15px !important;\n",
        "    }\n",
        "    div.cell {\n",
        "        margin-left: auto;\n",
        "        margin-right: auto;\n",
        "        width: 70%;\n",
        "    }    \n",
        "    div.cell.selected {\n",
        "        border: thin rgba(171, 171, 171, 0.5) dashed;\n",
        "    }\n",
        "    h1 {\n",
        "        font-family: 'Alegreya Sans', sans-serif;\n",
        "    }\n",
        "    h2 {\n",
        "        font-family: 'EB Garamond', serif;\n",
        "    }\n",
        "    h3 {\n",
        "        font-family: 'EB Garamond', serif;\n",
        "        margin-top:12px;\n",
        "        margin-bottom: 3px;\n",
        "    }\n",
        "    h4 {\n",
        "        font-family: 'EB Garamond', serif;\n",
        "    }\n",
        "    h5 {\n",
        "        font-family: 'Alegreya Sans', sans-serif;\n",
        "    }\n",
        "    div.text_cell_render {\n",
        "        font-family: 'EB Garamond',Computer Modern, \"Helvetica Neue\", Arial, Helvetica, Geneva, sans-serif;\n",
        "        line-height: 145%;\n",
        "        font-size: 140%;\n",
        "    }\n",
        "    div.input_area {\n",
        "        border-color: rgba(0,0,0,0.10) !important;\n",
        "        background: #fafafa;\n",
        "    }\n",
        "    .CodeMirror {\n",
        "            font-family: \"Source Code Pro\";\n",
        "            font-size: 90%;\n",
        "    }\n",
        "    .prompt {\n",
        "        display: None;\n",
        "    }\n",
        "    .output {\n",
        "        padding-left: 50px;\n",
        "        padding-top: 5px;\n",
        "    }\n",
        "    .output_wrapper {\n",
        "        padding-left: 5px;\n",
        "        padding-top: inherit;\n",
        "    }\n",
        "    div.output_scroll {\n",
        "        width: inherit;\n",
        "    }\n",
        "    .inner_cell {\n",
        "        padding-left: 5px;\n",
        "    }\n",
        "    .text_cell_render h1 {\n",
        "        font-weight: 200;\n",
        "        font-size: 50pt;\n",
        "        line-height: 100%;\n",
        "        color:#CD2305;\n",
        "        margin-bottom: 0.5em;\n",
        "        margin-top: 0.5em;\n",
        "        display: block;\n",
        "    }\n",
        "    .text_cell_render h5 {\n",
        "        font-weight: 300;\n",
        "        font-size: 16pt;\n",
        "        color: #CD2305;\n",
        "        font-style: italic;\n",
        "        margin-bottom: .5em;\n",
        "        margin-top: 0.5em;\n",
        "        display: block;\n",
        "    }\n",
        "    .warning {\n",
        "        color: rgb( 240, 20, 20 )\n",
        "        }  \n",
        "</style>\n",
        "<script>\n",
        "    MathJax.Hub.Config({\n",
        "                        TeX: {\n",
        "                           extensions: [\"AMSmath.js\"]\n",
        "                           },\n",
        "                tex2jax: {\n",
        "                    inlineMath: [ ['$','$'], [\"\\\\(\",\"\\\\)\"] ],\n",
        "                    displayMath: [ ['$$','$$'], [\"\\\\[\",\"\\\\]\"] ]\n",
        "                },\n",
        "                displayAlign: 'center', // Change this to 'center' to center equations.\n",
        "                \"HTML-CSS\": {\n",
        "                    styles: {'.MathJax_Display': {\"margin\": 4}}\n",
        "                }\n",
        "        });\n",
        "</script>"
       ],
       "metadata": {},
       "output_type": "pyout",
       "prompt_number": 2,
       "text": [
        "<IPython.core.display.HTML at 0x364ca20>"
       ]
      }
     ],
     "prompt_number": 2
    }
   ],
   "metadata": {}
  }
 ]
}