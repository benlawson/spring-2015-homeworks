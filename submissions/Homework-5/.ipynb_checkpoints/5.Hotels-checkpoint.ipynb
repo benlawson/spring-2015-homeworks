{
 "metadata": {
  "name": "",
  "signature": "sha256:e22e9115a26193f27e025d0a182807da7f90c74d669ee278ee92d6df1de1e7fb"
 },
 "nbformat": 3,
 "nbformat_minor": 0,
 "worksheets": [
  {
   "cells": [
    {
     "cell_type": "markdown",
     "metadata": {},
     "source": [
      "(In order to load the stylesheet of this notebook, execute the last code cell in this notebook)"
     ]
    },
    {
     "cell_type": "heading",
     "level": 1,
     "metadata": {},
     "source": [
      "Analyzing hotel ratings on Tripadvisor"
     ]
    },
    {
     "cell_type": "markdown",
     "metadata": {},
     "source": [
      "In this homework we will focus on practicing two techniques: web scraping and regression. For the first part, we will build upon the sample code from the Lecture and attempt to get some basic information for each hotel. Then, we will fit a regression model on this information and try to analyze it.   "
     ]
    },
    {
     "cell_type": "markdown",
     "metadata": {},
     "source": [
      "One of the main disadvantages of scraping a website instead of using an API is that, without any notice, the website may change its layout and render our code useless. Something like that happened in our case. Tripadvisor changed the layout of the buttons that we use to navigate between the different pages of the results. This was the main reason people were having problem with executing the code."
     ]
    },
    {
     "cell_type": "markdown",
     "metadata": {},
     "source": [
      "**Task 1 (20 pts)**\n",
      "\n",
      "The first task of the homework is to fix the scraping code. We basically need to replace the part where we are checking if there is another page and getting its link with new code that reflects the new navigation layout. "
     ]
    },
    {
     "cell_type": "markdown",
     "metadata": {},
     "source": [
      "** Task 2 (30 pts)**\n",
      "\n",
      "Then, for each hotel that our search returns, we will \"click\" (with the code of course) on it and scrape the information below.\n",
      "\n",
      "![Information to be scraped](hotel_info.png)\n",
      "\n",
      "Of course, feel free to collect even more data if you want. "
     ]
    },
    {
     "cell_type": "markdown",
     "metadata": {},
     "source": [
      "** Task 3 (20 pts) **\n",
      "\n",
      "Now, we will use regression to analyze this information. First, we will fit a linear regression model that predicts the average rating. For example, for the hotel above, the average rating is\n",
      "\n",
      "$$ \\text{AVG_SCORE} = \\frac{1*31 + 2*33 + 3*98 + 4*504 + 5*1861}{2527}$$\n",
      "\n",
      "Use the model to analyze the important factors that decide the $\\text{AVG_SCORE}$."
     ]
    },
    {
     "cell_type": "markdown",
     "metadata": {},
     "source": [
      "** Task 4 (30 pts) **\n",
      "\n",
      "Finally, we will use logistic regression to decide if a hotel is _excellent_ or not. We classify a hotel as _excellent_ if more than **60%** of its ratings are 5 stars. This is a binary attribute on which we can fit a logistic regression model. As before, use the model to analyze the data.\n",
      "\n",
      "-------"
     ]
    },
    {
     "cell_type": "markdown",
     "metadata": {},
     "source": [
      "In order to use code from a Python script file, we need to put that file in the same folder as the notebook and import it as a library. Then, we will be able to access it's functions. For example, in the case of the lecture code, we could do the following:\n",
      "\n",
      "``` python\n",
      "import scrape_solution as scrape\n",
      "\n",
      "scrape.get_city_page()\n",
      "```\n",
      "\n",
      "Of course, you might need to modify and restructure the code so that it returns what you need."
     ]
    },
    {
     "cell_type": "markdown",
     "metadata": {},
     "source": [
      "----"
     ]
    },
    {
     "cell_type": "code",
     "collapsed": false,
     "input": [
      "import urllib2\n",
      "from bs4 import BeautifulSoup\n",
      "import os\n",
      "import sys\n",
      "import time\n",
      "import argparse\n",
      "import pandas as pd\n",
      "import sklearn.utils as utils\n",
      "import sklearn.cross_validation as cross_validation\n",
      "import sklearn.linear_model as linear_model\n",
      "import numpy as np\n",
      "import matplotlib.pyplot as plt\n",
      "from patsy import dmatrices\n",
      "import sklearn.metrics as metrics\n",
      "%matplotlib inline\n"
     ],
     "language": "python",
     "metadata": {},
     "outputs": [],
     "prompt_number": 60
    },
    {
     "cell_type": "code",
     "collapsed": false,
     "input": [
      "base_url = \"http://www.tripadvisor.com/\""
     ],
     "language": "python",
     "metadata": {},
     "outputs": [],
     "prompt_number": 2
    },
    {
     "cell_type": "code",
     "collapsed": false,
     "input": [
      "#move print statement to data file\n",
      "orig_stdout = sys.stdout\n",
      "f = file(os.path.join('hoteldata.txt'), 'w+')\n",
      "sys.stdout = f"
     ],
     "language": "python",
     "metadata": {},
     "outputs": [],
     "prompt_number": 3
    },
    {
     "cell_type": "code",
     "collapsed": false,
     "input": [
      "def get_city_page(city, state, datadir):\n",
      "    \"\"\" Returns the URL of the list of the hotels in a city. Corresponds to\n",
      "    STEP 1 & 2 of the slides.\n",
      "\n",
      "    Parameters\n",
      "    ----------\n",
      "    city : str\n",
      "\n",
      "    state : str\n",
      "\n",
      "    datadir : str\n",
      "\n",
      "\n",
      "    Returns\n",
      "    -------\n",
      "    url : str\n",
      "        The relative link to the website with the hotels list.\n",
      "\n",
      "    \"\"\"\n",
      "    # Build the request URL\n",
      "    url = base_url + \"city=\" + city + \"&state=\" + state\n",
      "    html = urllib2.urlopen(url).read()\n",
      "    with open(os.path.join(datadir, city + '-tourism-page.html'), \"w\") as h:\n",
      "        h.write(html)\n",
      "    # Use BeautifulSoup to extract the url for the list of hotels in\n",
      "    # the city and state we are interested in.\n",
      "    \n",
      "    # For example in this case we need to get the following href\n",
      "    # <li class=\"hotels twoLines\">\n",
      "    # <a href=\"/Hotels-g60745-Boston_Massachusetts-Hotels.html\" data-trk=\"hotels_nav\">...</a>\n",
      "    soup = BeautifulSoup(html)\n",
      "    li = soup.find(\"li\", {\"class\": \"hotels twoLines\"})\n",
      "    city_url = li.find('a', href=True)\n",
      "    return city_url['href']"
     ],
     "language": "python",
     "metadata": {},
     "outputs": [],
     "prompt_number": 4
    },
    {
     "cell_type": "code",
     "collapsed": false,
     "input": [
      "def get_hotellist_page(city_url, page_count, city, datadir='data/'):\n",
      "    \"\"\" Returns the hotel list HTML. The URL of the list is the result of\n",
      "    get_city_page().\n",
      "\n",
      "    Parameters\n",
      "    ----------\n",
      "    city_url : str\n",
      "        The relative URL of the hotels in the city we are interested in.\n",
      "    page_count : int\n",
      "        The page that we want to fetch. Used for keeping track of our progress.\n",
      "    city : str\n",
      "        The name of the city that we are interested in.\n",
      "    datadir : str, default is 'data/'\n",
      "        The directory in which to save the downloaded html.\n",
      "\n",
      "    Returns\n",
      "    -------\n",
      "    html : str\n",
      "        The HTML of the page with the list of the hotels.\n",
      "    \"\"\"\n",
      "    url = base_url + city_url\n",
      "    # Sleep 2 sec before starting a new http request\n",
      "    time.sleep(2)\n",
      "    # Request page\n",
      "\n",
      "    html = urllib2.urlopen(url).read()\n",
      "    # Save the webpage\n",
      "    with open(os.path.join(datadir, city + '-hotelist-' + str(page_count) + '.html'), \"w\") as h:\n",
      "        h.write(html)\n",
      "    return html"
     ],
     "language": "python",
     "metadata": {},
     "outputs": [],
     "prompt_number": 5
    },
    {
     "cell_type": "code",
     "collapsed": false,
     "input": [
      "def parse_hotellist_page(html):\n",
      "    \"\"\"Parses the website with the hotel list and prints the hotel name, the\n",
      "    number of stars and the number of reviews it has. If there is a next page\n",
      "    in the hotel list, it returns a list to that page. Otherwise, it exits the\n",
      "    script. Corresponds to STEP 4 of the slides.\n",
      "\n",
      "    Parameters\n",
      "    ----------\n",
      "    html : str\n",
      "        The HTML of the website with the hotel list.\n",
      "\n",
      "    Returns\n",
      "    -------\n",
      "    URL : str\n",
      "        If there is a next page, return a relative link to this page.\n",
      "        Otherwise, exit the script.\n",
      "    \"\"\"\n",
      "    soup = BeautifulSoup(html)\n",
      "    # Extract hotel name, star rating and number of reviews\n",
      "    hotel_boxes = soup.findAll('div', {'class' :'listing wrap reasoning_v5_wrap jfy_listing p13n_imperfect'})\n",
      "    if not hotel_boxes:\n",
      "        #log.info(\"#################################### Option 2 ######################################\")\n",
      "        hotel_boxes = soup.findAll('div', {'class' :'listing_info jfy'})\n",
      "    if not hotel_boxes:\n",
      "        #log.info(\"#################################### Option 3 ######################################\")\n",
      "        hotel_boxes = soup.findAll('div', {'class' :'listing easyClear  p13n_imperfect'})\n",
      "\n",
      "    for hotel_box in hotel_boxes:\n",
      "        hotel_name = hotel_box.find(\"a\", {\"target\" : \"_blank\"}).find(text=True)\n",
      "        #I want to use spaces as separators so I'ma change the spaces to hyphens \n",
      "        print (hotel_name.strip().replace(' ', '-')),\n",
      "        hotel_url = base_url + hotel_box.find(\"a\", {\"target\" : \"_blank\"}).get('href')\n",
      "        click_hotel(hotel_url)\n",
      "        \n",
      "\n",
      "        stars = hotel_box.find(\"img\", {\"class\" : \"sprite-ratings\"})\n",
      "        #if stars:\n",
      "            #print \"Stars:\", stars['alt'].split()[0]\n",
      "\n",
      "        num_reviews = hotel_box.find(\"span\", {'class': \"more\"}).findAll(text=True)\n",
      "        #if num_reviews:\n",
      "            #print \"Number of reviews: \", [x for x in num_reviews if \"review\" in x][0].strip()\n",
      "\n",
      "    # Get next URL page if exists, otherwise exit\n",
      "    div = soup.find(\"div\", {\"class\" : \"pgLinks\"})\n",
      "    #print div\n",
      "    # check if this is the last page\n",
      "    if div.find('span', {'class' : 'guiArw pageEndNext'}):\n",
      "        #print (\"We reached last page\")\n",
      "        sys.exit()\n",
      "    # If not, return the url to the next page\n",
      "    hrefs = div.findAll('a', {'class':\"guiArw sprite-pageNext \"})\n",
      "    for href in hrefs:\n",
      "        #print (\"Next url is \", href['href'])\n",
      "        return href['href']"
     ],
     "language": "python",
     "metadata": {},
     "outputs": [],
     "prompt_number": 6
    },
    {
     "cell_type": "code",
     "collapsed": false,
     "input": [
      "def scrape_hotels(city, state, datadir='data/'):\n",
      "    \"\"\"Runs the main scraper code\n",
      "\n",
      "    Parameters\n",
      "    ----------\n",
      "    city : str\n",
      "        The name of the city for which to scrape hotels.\n",
      "\n",
      "    state : str\n",
      "        The state in which the city is located.\n",
      "\n",
      "    datadir : str, default is 'data/'\n",
      "        The directory under which to save the downloaded html.\n",
      "    \"\"\"\n",
      "\n",
      "    # Get current directory\n",
      "    current_dir = os.getcwd()\n",
      "    # Create datadir if does not exist\n",
      "    if not os.path.exists(os.path.join(current_dir, datadir)):\n",
      "        os.makedirs(os.path.join(current_dir, datadir))\n",
      "\n",
      "    # Get URL to obtain the list of hotels in a specific city\n",
      "    city_url = get_city_page(city, state, datadir)\n",
      "    c = 0\n",
      "    while(True):\n",
      "        c += 1\n",
      "        html = get_hotellist_page(city_url, c, city, datadir)\n",
      "        city_url = parse_hotellist_page(html)"
     ],
     "language": "python",
     "metadata": {},
     "outputs": [],
     "prompt_number": 7
    },
    {
     "cell_type": "code",
     "collapsed": false,
     "input": [
      "def click_hotel(url):\n",
      "    \"\"\"Takes hotel link from list of hotels, and prints the \n",
      "    traveling ratings and rating summary.\n",
      "\n",
      "    Parameters\n",
      "    ----------\n",
      "    url : str\n",
      "        The URL of the hotel on the hotel list.\n",
      "\n",
      "    Returns\n",
      "    -------\n",
      "    none\n",
      "    \"\"\"\n",
      "    html = urllib2.urlopen(url).read()\n",
      "    # Save the webpage\n",
      "    #with open(os.path.join(datadir, url + '.html'), \"w\") as h:\n",
      "     #   h.write(html)\n",
      "    \n",
      "    soup = BeautifulSoup(html)\n",
      "    ratings = soup.find(\"fieldset\", {\"class\" : \"review_filter_lodging\"})\n",
      "    #print traveler ratings\n",
      "    #print (\"\\ntraveler_rating\"),\n",
      "    for div in ratings.find_all('span' , {\"class\" : \"compositeCount\"}):\n",
      "        print (div.string.replace(',','')),\n",
      "   #print (\"\\ntrip_type\"),\n",
      "    for div in ratings.find_all('div', {\"class\" : \"value\"} ):\n",
      "        print (div.string.replace(',','')),\n",
      "    #print (\"\\nrating_summary\"),\n",
      "    for span in ratings.find_all('span', {\"class\" : \"rate sprite-rating_s rating_s\"}):\n",
      "        for img in span.find_all('img'):\n",
      "            print (img[\"alt\"].split(' ')[0].replace(',','')),\n",
      "    print\n"
     ],
     "language": "python",
     "metadata": {},
     "outputs": [],
     "prompt_number": 8
    },
    {
     "cell_type": "code",
     "collapsed": false,
     "input": [
      "scrape_hotels(\"boston\",\"ma\",'data')"
     ],
     "language": "python",
     "metadata": {},
     "outputs": [
      {
       "ename": "SystemExit",
       "evalue": "",
       "output_type": "pyerr",
       "traceback": [
        "An exception has occurred, use %tb to see the full traceback.\n",
        "\u001b[1;31mSystemExit\u001b[0m\n"
       ]
      },
      {
       "output_type": "stream",
       "stream": "stderr",
       "text": [
        "To exit: use 'exit', 'quit', or Ctrl-D.\n"
       ]
      }
     ],
     "prompt_number": 9
    },
    {
     "cell_type": "code",
     "collapsed": false,
     "input": [
      "#use this to debug click_hotel\n",
      "#click_hotel('http://www.tripadvisor.com/Hotel_Review-g60745-d94330-Reviews-Seaport_Boston_Hotel-Boston_Massachusetts.html')"
     ],
     "language": "python",
     "metadata": {},
     "outputs": []
    },
    {
     "cell_type": "code",
     "collapsed": false,
     "input": [
      "#close the file and return the print statement to the ipython notebook\n",
      "sys.stdout = orig_stdout\n",
      "f.close()"
     ],
     "language": "python",
     "metadata": {},
     "outputs": [],
     "prompt_number": 10
    },
    {
     "cell_type": "code",
     "collapsed": false,
     "input": [
      "#load in the data to a dataframe and assign appropiate headers\n",
      "df = pd.read_csv('hoteldata.txt', sep=' ', header=0,names=[\"hotel\", \"TR_excellent\", \"TR_vg\", \"TR_a\", \"TR_p\",\"TR_t\",\"families\",\"couples\",\"solo\",\"business\",\"sleep_quality\",\"location\",\"rooms\",\"service\",\"value\",\"cleaniness\"] )"
     ],
     "language": "python",
     "metadata": {},
     "outputs": [],
     "prompt_number": 11
    },
    {
     "cell_type": "code",
     "collapsed": false,
     "input": [
      "#delete empty rows\n",
      "print df.info()\n",
      "df = df[df.hotel.notnull()]\n",
      "print df.info()"
     ],
     "language": "python",
     "metadata": {},
     "outputs": [
      {
       "output_type": "stream",
       "stream": "stdout",
       "text": [
        "<class 'pandas.core.frame.DataFrame'>\n",
        "Int64Index: 76 entries, 0 to 75\n",
        "Data columns (total 16 columns):\n",
        "hotel            76 non-null object\n",
        "TR_excellent     76 non-null int64\n",
        "TR_vg            76 non-null int64\n",
        "TR_a             76 non-null int64\n",
        "TR_p             76 non-null int64\n",
        "TR_t             76 non-null int64\n",
        "families         76 non-null int64\n",
        "couples          76 non-null int64\n",
        "solo             76 non-null int64\n",
        "business         76 non-null int64\n",
        "sleep_quality    76 non-null float64\n",
        "location         76 non-null float64\n",
        "rooms            76 non-null float64\n",
        "service          76 non-null float64\n",
        "value            76 non-null float64\n",
        "cleaniness       76 non-null float64\n",
        "dtypes: float64(6), int64(9), object(1)None\n",
        "<class 'pandas.core.frame.DataFrame'>\n",
        "Int64Index: 76 entries, 0 to 75\n",
        "Data columns (total 16 columns):\n",
        "hotel            76 non-null object\n",
        "TR_excellent     76 non-null int64\n",
        "TR_vg            76 non-null int64\n",
        "TR_a             76 non-null int64\n",
        "TR_p             76 non-null int64\n",
        "TR_t             76 non-null int64\n",
        "families         76 non-null int64\n",
        "couples          76 non-null int64\n",
        "solo             76 non-null int64\n",
        "business         76 non-null int64\n",
        "sleep_quality    76 non-null float64\n",
        "location         76 non-null float64\n",
        "rooms            76 non-null float64\n",
        "service          76 non-null float64\n",
        "value            76 non-null float64\n",
        "cleaniness       76 non-null float64\n",
        "dtypes: float64(6), int64(9), object(1)"
       ]
      },
      {
       "output_type": "stream",
       "stream": "stdout",
       "text": [
        "None\n"
       ]
      }
     ],
     "prompt_number": 12
    },
    {
     "cell_type": "code",
     "collapsed": false,
     "input": [
      "print df.head()\n",
      "df.convert_objects(convert_numeric=True)\n",
      "print df.dtypes"
     ],
     "language": "python",
     "metadata": {},
     "outputs": [
      {
       "output_type": "stream",
       "stream": "stdout",
       "text": [
        "                        hotel  TR_excellent  TR_vg  TR_a  TR_p  TR_t  \\\n",
        "0         Hyatt-Boston-Harbor           480    424   166    67    34   \n",
        "1          Hotel-Commonwealth          2371    442    81    39    13   \n",
        "2         Boston-Harbor-Hotel           991    189    44    15    11   \n",
        "3       enVision-Hotel-Boston           246     85    21     7     1   \n",
        "4  Revere-Hotel-Boston-Common          1094    619   181    39    17   \n",
        "\n",
        "   families  couples  solo  business  sleep_quality  location  rooms  service  \\\n",
        "0       240      335   105       329            4.5       4.0    4.0      4.5   \n",
        "1       915      853   147       585            5.0       5.0    5.0      5.0   \n",
        "2       284      462    55       255            5.0       4.5    4.5      5.0   \n",
        "3       104      102    29        64            4.5       4.0    4.5      4.5   \n",
        "4       445      624    78       300            4.5       4.5    4.5      4.5   \n",
        "\n",
        "   value  cleaniness  \n",
        "0    4.0         4.5  \n",
        "1    4.5         5.0  \n",
        "2    4.5         5.0  \n",
        "3    4.5         5.0  \n",
        "4    4.0         4.5  \n",
        "hotel             object\n",
        "TR_excellent       int64\n",
        "TR_vg              int64\n",
        "TR_a               int64\n",
        "TR_p               int64\n",
        "TR_t               int64\n",
        "families           int64\n",
        "couples            int64\n",
        "solo               int64\n",
        "business           int64\n",
        "sleep_quality    float64\n",
        "location         float64\n",
        "rooms            float64\n",
        "service          float64\n",
        "value            float64\n",
        "cleaniness       float64\n",
        "dtype: object\n"
       ]
      }
     ],
     "prompt_number": 13
    },
    {
     "cell_type": "code",
     "collapsed": false,
     "input": [
      "for idx, row in df.iterrows():\n",
      "    adjusted_sum = (row.TR_excellent * 5.0) + (row.TR_vg * 4) + (row.TR_a * 3) + (row.TR_p * 2) + (row.TR_t * 1)\n",
      "    df.ix[idx,'avg_score']= adjusted_sum/(row.TR_excellent + row.TR_vg + row.TR_a + row.TR_p + row.TR_t)\n",
      "print df.head()"
     ],
     "language": "python",
     "metadata": {},
     "outputs": [
      {
       "output_type": "stream",
       "stream": "stdout",
       "text": [
        "                        hotel  TR_excellent  TR_vg  TR_a  TR_p  TR_t  \\\n",
        "0         Hyatt-Boston-Harbor           480    424   166    67    34   \n",
        "1          Hotel-Commonwealth          2371    442    81    39    13   \n",
        "2         Boston-Harbor-Hotel           991    189    44    15    11   \n",
        "3       enVision-Hotel-Boston           246     85    21     7     1   \n",
        "4  Revere-Hotel-Boston-Common          1094    619   181    39    17   \n",
        "\n",
        "   families  couples  solo  business  sleep_quality  location  rooms  service  \\\n",
        "0       240      335   105       329            4.5       4.0    4.0      4.5   \n",
        "1       915      853   147       585            5.0       5.0    5.0      5.0   \n",
        "2       284      462    55       255            5.0       4.5    4.5      5.0   \n",
        "3       104      102    29        64            4.5       4.0    4.5      4.5   \n",
        "4       445      624    78       300            4.5       4.5    4.5      4.5   \n",
        "\n",
        "   value  cleaniness  avg_score  \n",
        "0    4.0         4.5   4.066610  \n",
        "1    4.5         5.0   4.737610  \n",
        "2    4.5         5.0   4.707200  \n",
        "3    4.5         5.0   4.577778  \n",
        "4    4.0         4.5   4.402051  \n"
       ]
      }
     ],
     "prompt_number": 14
    },
    {
     "cell_type": "code",
     "collapsed": false,
     "input": [
      "without = df.drop(['hotel'],axis=1)\n",
      "without = without.drop(['avg_score'],axis=1)\n",
      "X = without.as_matrix(columns=None)\n",
      "print X\n",
      "y = df['avg_score'].as_matrix()\n",
      "print y"
     ],
     "language": "python",
     "metadata": {},
     "outputs": [
      {
       "output_type": "stream",
       "stream": "stdout",
       "text": [
        "[[  4.80000000e+02   4.24000000e+02   1.66000000e+02 ...,   4.50000000e+00\n",
        "    4.00000000e+00   4.50000000e+00]\n",
        " [  2.37100000e+03   4.42000000e+02   8.10000000e+01 ...,   5.00000000e+00\n",
        "    4.50000000e+00   5.00000000e+00]\n",
        " [  9.91000000e+02   1.89000000e+02   4.40000000e+01 ...,   5.00000000e+00\n",
        "    4.50000000e+00   5.00000000e+00]\n",
        " ..., \n",
        " [  5.60000000e+01   1.31000000e+02   1.15000000e+02 ...,   3.50000000e+00\n",
        "    3.50000000e+00   3.50000000e+00]\n",
        " [  1.90000000e+01   3.20000000e+01   5.70000000e+01 ...,   3.00000000e+00\n",
        "    3.00000000e+00   3.00000000e+00]\n",
        " [  2.00000000e+00   2.00000000e+00   8.00000000e+00 ...,   2.50000000e+00\n",
        "    3.00000000e+00   3.00000000e+00]]\n",
        "[ 4.06660974  4.73761032  4.7072      4.57777778  4.40205128  4.63328137\n",
        "  4.52323674  4.55486542  4.21933247  4.12973336  4.62280702  4.00983359\n",
        "  4.22446237  3.62138728  4.65306122  4.32122371  4.07059961  4.08544028\n",
        "  4.01698887  4.33705773  4.37446809  4.11089303  4.55160142  4.39799684\n",
        "  3.60869565  4.05253283  4.57854406  4.00245098  4.49286641  3.90434333\n",
        "  4.14682081  4.17234043  4.40959767  3.98601399  3.91124871  4.069869\n",
        "  4.04060914  3.95995423  4.47569444  4.23100775  4.21057986  3.95598592\n",
        "  3.83643123  4.65891473  4.24119241  4.37572254  3.75475687  3.92974013\n",
        "  3.69529086  4.3230563   4.00678593  4.07802093  3.63684211  4.13745704\n",
        "  4.02913534  4.10779817  3.73463687  4.18037135  4.64215686  3.69180328\n",
        "  4.3091954   4.25536062  3.69767442  4.59440559  4.61965812  3.86337209\n",
        "  4.12587413  3.34843206  3.28216704  3.25953839  3.08550186  3.075\n",
        "  3.01358696  3.20681265  2.76315789  2.72222222]\n"
       ]
      }
     ],
     "prompt_number": 48
    },
    {
     "cell_type": "code",
     "collapsed": false,
     "input": [
      "X, y = utils.shuffle(X, y, random_state=1)\n",
      "X_train, X_test, y_train, y_test = cross_validation.train_test_split(X, y, test_size=0.4, random_state=0)\n",
      "print(X_train.shape), y_train.shape\n",
      "print(X_test.shape), y_test.shape"
     ],
     "language": "python",
     "metadata": {},
     "outputs": [
      {
       "output_type": "stream",
       "stream": "stdout",
       "text": [
        "(45L, 15L) (45L,)\n",
        "(31L, 15L) (31L,)\n"
       ]
      }
     ],
     "prompt_number": 16
    },
    {
     "cell_type": "code",
     "collapsed": false,
     "input": [
      "regr = linear_model.LinearRegression()\n",
      "print X_train.shape\n",
      "regr.fit(X_train, y_train);\n",
      "# The mean square error\n",
      "print(\"Training error: \", np.mean((regr.predict(X_train) - y_train) ** 2))\n",
      "print(\"Test     error: \", np.mean((regr.predict(X_test) - y_test) ** 2))"
     ],
     "language": "python",
     "metadata": {},
     "outputs": [
      {
       "output_type": "stream",
       "stream": "stdout",
       "text": [
        "(45L, 15L)\n",
        "('Training error: ', 0.0046283853104351867)"
       ]
      },
      {
       "output_type": "stream",
       "stream": "stdout",
       "text": [
        "\n",
        "('Test     error: ', 0.01685646317836325)\n"
       ]
      }
     ],
     "prompt_number": 17
    },
    {
     "cell_type": "code",
     "collapsed": false,
     "input": [
      "train_score = regr.score(X_train,y_train)\n",
      "test_score = regr.score(X_test,y_test)\n",
      "print(\"Training score: \", train_score)\n",
      "print(\"Test     score: \", test_score)"
     ],
     "language": "python",
     "metadata": {},
     "outputs": [
      {
       "output_type": "stream",
       "stream": "stdout",
       "text": [
        "('Training score: ', 0.97630441158151937)\n",
        "('Test     score: ', 0.92527966078713431)\n"
       ]
      }
     ],
     "prompt_number": 18
    },
    {
     "cell_type": "code",
     "collapsed": false,
     "input": [
      "coefficients = regr.coef_\n",
      "for i in range(len(coefficients)):\n",
      "    print without.columns[i],\"\\t\",coefficients[i]"
     ],
     "language": "python",
     "metadata": {},
     "outputs": [
      {
       "output_type": "stream",
       "stream": "stdout",
       "text": [
        "TR_excellent \t-8.87224892052e-05\n",
        "TR_vg \t-0.000223963469928\n",
        "TR_a \t0.000231362262924\n",
        "TR_p \t-0.00305742094905\n",
        "TR_t \t0.00322164964949\n",
        "families \t0.000324237559033\n",
        "couples \t0.000234589197548\n",
        "solo \t-0.000293813217883\n",
        "business \t5.60765771402e-05\n",
        "sleep_quality \t0.170278338117\n",
        "location \t0.0297433862847\n",
        "rooms \t0.368359108143\n",
        "service \t0.0659378298893\n",
        "value \t0.0909277687779\n",
        "cleaniness \t0.399475222093\n"
       ]
      }
     ],
     "prompt_number": 19
    },
    {
     "cell_type": "code",
     "collapsed": false,
     "input": [
      "\n",
      "coe = pd.DataFrame(coefficients)\n",
      "coe.index = without.columns\n",
      "#print len(without.columns)\n",
      "#print coe.T\n",
      "\n",
      "\n",
      "coe.T.plot(kind='bar',legend=True)\n",
      "plt.legend(bbox_to_anchor=(1.05, 1), loc=2, borderaxespad=0.)"
     ],
     "language": "python",
     "metadata": {},
     "outputs": [
      {
       "metadata": {},
       "output_type": "pyout",
       "prompt_number": 35,
       "text": [
        "<matplotlib.legend.Legend at 0x1be5c978>"
       ]
      },
      {
       "metadata": {},
       "output_type": "display_data",
       "png": "[encoded data removed]",
       "text": [
        "<matplotlib.figure.Figure at 0x1be54ba8>"
       ]
      }
     ],
     "prompt_number": 35
    },
    {
     "cell_type": "markdown",
     "metadata": {},
     "source": [
      "This is pretty cool. I copied, pasted, and modified the code from class but now it is time to analyze the results. At first, it was somewhat surprising that the Traveler Rating means very little to the model. From the coefficient printout above, we can see that the number of rooms and cleaniness were the most important factors with the highest coefficients (both above 0.3). The next most significant coefficients were service and sleep quality, coming in between 0.1 and 0.2.  Value and location matter least of the data collected from Rating Summary section, but significantly more than then rest of the data collected. The rest of the data is negliable compared to the data collected from the Rating Summary section. It is important to note that type of customer didn't play a role in this model. It doesn't matter if the client is a family, a couple, solo, or on a business trip, they seem to have the same opinion of the hotel."
     ]
    },
    {
     "cell_type": "code",
     "collapsed": false,
     "input": [
      "print without.head()"
     ],
     "language": "python",
     "metadata": {},
     "outputs": [
      {
       "output_type": "stream",
       "stream": "stdout",
       "text": [
        "   TR_excellent  TR_vg  TR_a  TR_p  TR_t  families  couples  solo  business  \\\n",
        "0           480    424   166    67    34       240      335   105       329   \n",
        "1          2371    442    81    39    13       915      853   147       585   \n",
        "2           991    189    44    15    11       284      462    55       255   \n",
        "3           246     85    21     7     1       104      102    29        64   \n",
        "4          1094    619   181    39    17       445      624    78       300   \n",
        "\n",
        "   sleep_quality  location  rooms  service  value  cleaniness  \n",
        "0            4.5       4.0    4.0      4.5    4.0         4.5  \n",
        "1            5.0       5.0    5.0      5.0    4.5         5.0  \n",
        "2            5.0       4.5    4.5      5.0    4.5         5.0  \n",
        "3            4.5       4.0    4.5      4.5    4.5         5.0  \n",
        "4            4.5       4.5    4.5      4.5    4.0         4.5  \n"
       ]
      }
     ],
     "prompt_number": 36
    },
    {
     "cell_type": "code",
     "collapsed": false,
     "input": [
      "for idx, row in without.iterrows():\n",
      "    excellence = (0.6<(row.TR_excellent/(row.TR_excellent + row.TR_vg + row.TR_a + row.TR_p + row.TR_t)))\n",
      "    if (excellence == True):\n",
      "        without.ix[idx,'excellent_hotel']= 1\n",
      "    else:\n",
      "        without.ix[idx,'excellent_hotel']= 0\n",
      "print without.head()"
     ],
     "language": "python",
     "metadata": {},
     "outputs": [
      {
       "output_type": "stream",
       "stream": "stdout",
       "text": [
        "   TR_excellent  TR_vg  TR_a  TR_p  TR_t  families  couples  solo  business  \\\n",
        "0           480    424   166    67    34       240      335   105       329   \n",
        "1          2371    442    81    39    13       915      853   147       585   \n",
        "2           991    189    44    15    11       284      462    55       255   \n",
        "3           246     85    21     7     1       104      102    29        64   \n",
        "4          1094    619   181    39    17       445      624    78       300   \n",
        "\n",
        "   sleep_quality  location  rooms  service  value  cleaniness  excellent_hotel  \n",
        "0            4.5       4.0    4.0      4.5    4.0         4.5                0  \n",
        "1            5.0       5.0    5.0      5.0    4.5         5.0                1  \n",
        "2            5.0       4.5    4.5      5.0    4.5         5.0                1  \n",
        "3            4.5       4.0    4.5      4.5    4.5         5.0                1  \n",
        "4            4.5       4.5    4.5      4.5    4.0         4.5                0  \n"
       ]
      }
     ],
     "prompt_number": 50
    },
    {
     "cell_type": "code",
     "collapsed": false,
     "input": [
      "y, X = dmatrices('excellent_hotel ~ TR_excellent + TR_vg + TR_a + TR_p + TR_t + families +\\\n",
      "couples + solo + business + sleep_quality + location + rooms + service + value + cleaniness',\n",
      "                  without, return_type=\"dataframe\")\n",
      "print X.columns"
     ],
     "language": "python",
     "metadata": {},
     "outputs": [
      {
       "output_type": "stream",
       "stream": "stdout",
       "text": [
        "Index([u'Intercept', u'TR_excellent', u'TR_vg', u'TR_a', u'TR_p', u'TR_t', u'families', u'couples', u'solo', u'business', u'sleep_quality', u'location', u'rooms', u'service', u'value', u'cleaniness'], dtype='object')\n"
       ]
      }
     ],
     "prompt_number": 54
    },
    {
     "cell_type": "code",
     "collapsed": false,
     "input": [
      "print y.shape, \n",
      "y = np.ravel(y)\n",
      "print y.shape"
     ],
     "language": "python",
     "metadata": {},
     "outputs": [
      {
       "output_type": "stream",
       "stream": "stdout",
       "text": [
        "(76, 1) (76L,)\n"
       ]
      }
     ],
     "prompt_number": 55
    },
    {
     "cell_type": "code",
     "collapsed": false,
     "input": [
      "# evaluate the model by splitting into train and test sets\n",
      "X_train, X_test, y_train, y_test = cross_validation.train_test_split(X,\n",
      "                                                                     y,\n",
      "                                                                     test_size=0.3,\n",
      "                                                                     random_state=0\n",
      "                                                                     )\n",
      "logistic_regr = linear_model.LogisticRegression()\n",
      "logistic_regr.fit(X_train, y_train)"
     ],
     "language": "python",
     "metadata": {},
     "outputs": [
      {
       "metadata": {},
       "output_type": "pyout",
       "prompt_number": 56,
       "text": [
        "LogisticRegression(C=1.0, class_weight=None, dual=False, fit_intercept=True,\n",
        "          intercept_scaling=1, penalty='l2', random_state=None, tol=0.0001)"
       ]
      }
     ],
     "prompt_number": 56
    },
    {
     "cell_type": "code",
     "collapsed": false,
     "input": [
      "# predict class labels for the test set\n",
      "y_predicted = logistic_regr.predict(X_test)\n",
      "print y_predicted"
     ],
     "language": "python",
     "metadata": {},
     "outputs": [
      {
       "output_type": "stream",
       "stream": "stdout",
       "text": [
        "[ 0.  0.  1.  0.  1.  1.  0.  0.  0.  1.  1.  0.  0.  0.  0.  0.  0.  0.\n",
        "  0.  0.  1.  0.  0.]\n"
       ]
      }
     ],
     "prompt_number": 57
    },
    {
     "cell_type": "code",
     "collapsed": false,
     "input": [
      "#prediction probabilities\n",
      "probs = logistic_regr.predict_proba(X_test)\n",
      "print probs"
     ],
     "language": "python",
     "metadata": {},
     "outputs": [
      {
       "output_type": "stream",
       "stream": "stdout",
       "text": [
        "[[  1.00000000e+000   1.56334978e-013]\n",
        " [  1.00000000e+000   7.00699840e-015]\n",
        " [  7.45026985e-008   9.99999925e-001]\n",
        " [  9.12726635e-001   8.72733654e-002]\n",
        " [  4.02104424e-002   9.59789558e-001]\n",
        " [  1.15211880e-006   9.99998848e-001]\n",
        " [  1.00000000e+000   1.93949377e-048]\n",
        " [  1.00000000e+000   3.64960188e-031]\n",
        " [  1.00000000e+000   9.66522558e-031]\n",
        " [  1.69555807e-004   9.99830444e-001]\n",
        " [  0.00000000e+000   1.00000000e+000]\n",
        " [  1.00000000e+000   3.61293599e-012]\n",
        " [  1.00000000e+000   7.46737809e-018]\n",
        " [  1.00000000e+000   9.84935630e-013]\n",
        " [  1.00000000e+000   1.16467555e-028]\n",
        " [  1.00000000e+000   6.30208275e-027]\n",
        " [  1.00000000e+000   3.42122053e-077]\n",
        " [  5.76518190e-001   4.23481810e-001]\n",
        " [  9.99999924e-001   7.57444276e-008]\n",
        " [  1.00000000e+000   5.97961018e-029]\n",
        " [  6.90748725e-009   9.99999993e-001]\n",
        " [  1.00000000e+000   4.06296176e-057]\n",
        " [  1.00000000e+000   7.73313570e-216]]\n"
       ]
      }
     ],
     "prompt_number": 58
    },
    {
     "cell_type": "code",
     "collapsed": false,
     "input": [
      "# generate evaluation metrics\n",
      "print metrics.accuracy_score(y_test, y_predicted)"
     ],
     "language": "python",
     "metadata": {},
     "outputs": [
      {
       "output_type": "stream",
       "stream": "stdout",
       "text": [
        "1.0\n"
       ]
      }
     ],
     "prompt_number": 61
    },
    {
     "cell_type": "code",
     "collapsed": false,
     "input": [
      "print metrics.confusion_matrix(y_test, y_predicted)\n",
      "print metrics.classification_report(y_test, y_predicted)"
     ],
     "language": "python",
     "metadata": {},
     "outputs": [
      {
       "output_type": "stream",
       "stream": "stdout",
       "text": [
        "[[17  0]\n",
        " [ 0  6]]\n",
        "             precision    recall  f1-score   support\n",
        "\n",
        "        0.0       1.00      1.00      1.00        17\n",
        "        1.0       1.00      1.00      1.00         6\n",
        "\n",
        "avg / total       1.00      1.00      1.00        23\n",
        "\n"
       ]
      }
     ],
     "prompt_number": 62
    },
    {
     "cell_type": "code",
     "collapsed": false,
     "input": [
      "# examine the coefficients\n",
      "print pd.DataFrame(zip(X.columns, np.transpose(logistic_regr.coef_)))"
     ],
     "language": "python",
     "metadata": {},
     "outputs": [
      {
       "output_type": "stream",
       "stream": "stdout",
       "text": [
        "                0                    1\n",
        "0       Intercept  [-0.00605246644038]\n",
        "1    TR_excellent      [0.14695766605]\n",
        "2           TR_vg    [-0.119285619672]\n",
        "3            TR_a    [-0.139122912142]\n",
        "4            TR_p    [-0.169862639145]\n",
        "5            TR_t   [-0.0324022897616]\n",
        "6        families   [-0.0256980484439]\n",
        "7         couples   [-0.0436660084319]\n",
        "8            solo     [-0.01869757044]\n",
        "9        business   [-0.0845312535167]\n",
        "10  sleep_quality   [-0.0275432389371]\n",
        "11       location   [-0.0256154994899]\n",
        "12          rooms   [-0.0247050455755]\n",
        "13        service   [-0.0254590256512]\n",
        "14          value    [-0.023506395934]\n",
        "15     cleaniness   [-0.0261319737118]\n"
       ]
      }
     ],
     "prompt_number": 63
    },
    {
     "cell_type": "code",
     "collapsed": false,
     "input": [
      "coe = pd.DataFrame(coefficients)\n",
      "coe.index = X.columns[1:]\n",
      "coe.T.plot(kind='bar',legend=True)\n",
      "plt.legend(bbox_to_anchor=(1.05, 1), loc=2, borderaxespad=0.)\n",
      "plt.title('Linear Regression Coefficients')\n",
      "\n",
      "coe_log = pd.DataFrame(np.transpose(logistic_regr.coef_))\n",
      "coe_log.index = X.columns\n",
      "coe_log.T.plot(kind='bar',legend=True)\n",
      "plt.legend(bbox_to_anchor=(1.05, 1), loc=2, borderaxespad=0.)\n",
      "plt.title('Logistic Regression Coefficients')"
     ],
     "language": "python",
     "metadata": {},
     "outputs": [
      {
       "metadata": {},
       "output_type": "pyout",
       "prompt_number": 83,
       "text": [
        "<matplotlib.text.Text at 0x197c6dd8>"
       ]
      },
      {
       "metadata": {},
       "output_type": "display_data",
       "png": "[encoded data removed]",
       "text": [
        "<matplotlib.figure.Figure at 0x18fe1588>"
       ]
      },
      {
       "metadata": {},
       "output_type": "display_data",
       "png": "[encoded data removed]",
       "text": [
        "<matplotlib.figure.Figure at 0x19110898>"
       ]
      }
     ],
     "prompt_number": 83
    },
    {
     "cell_type": "code",
     "collapsed": false,
     "input": [
      "# evaluate the model using 10-fold cross-validation\n",
      "scores = cross_validation.cross_val_score(linear_model.LogisticRegression(),\n",
      "                                          X,\n",
      "                                          y,\n",
      "                                          scoring='accuracy',\n",
      "                                          cv=10)\n",
      "print scores\n",
      "print scores.mean()"
     ],
     "language": "python",
     "metadata": {},
     "outputs": [
      {
       "output_type": "stream",
       "stream": "stdout",
       "text": [
        "[ 1.     1.     0.875  1.     1.     1.     1.     1.     1.     1.   ]\n",
        "0.9875\n"
       ]
      }
     ],
     "prompt_number": 64
    },
    {
     "cell_type": "markdown",
     "metadata": {},
     "source": [
      "The logistic model incorporates more features than the linear model. Instead of sending most of the data to zero, this model places still relatively weak emphasis on most of the values (again - rather making it near zero) The most important feature is the number of ratings from the solo guests. Additionally, this model places a large, in magnitude, emphasis on the location, sleep quality, and number of business guest reviews. "
     ]
    },
    {
     "cell_type": "markdown",
     "metadata": {},
     "source": [
      "As the graphs above note, the two models place emphasis on different features. The logistic model makes most of the coefficients negative while the linear model makes most of the coefficients near-zero. "
     ]
    },
    {
     "cell_type": "code",
     "collapsed": false,
     "input": [
      "# Code for setting the style of the notebook\n",
      "from IPython.core.display import HTML\n",
      "def css_styling():\n",
      "    styles = open(\"../../theme/custom.css\", \"r\").read()\n",
      "    return HTML(styles)\n",
      "css_styling()"
     ],
     "language": "python",
     "metadata": {},
     "outputs": [
      {
       "html": [
        "<link href='http://fonts.googleapis.com/css?family=EB+Garamond' rel='stylesheet' type='text/css'>\n",
        "<link href='http://fonts.googleapis.com/css?family=Alegreya+Sans:100,300,400,500,700,800,900,100italic,300italic,400italic,500italic,700italic,800italic,900italic' rel='stylesheet' type='text/css'>\n",
        "<link href='http://fonts.googleapis.com/css?family=Source+Code+Pro:300,400' rel='stylesheet' type='text/css'>\n",
        "<style>\n",
        "    @font-face {\n",
        "        font-family: \"Computer Modern\";\n",
        "        src: url('http://mirrors.ctan.org/fonts/cm-unicode/fonts/otf/cmunss.otf');\n",
        "    }\n",
        "    .code_cell {\n",
        "        width: 105ex !important ;\n",
        "        margin-bottom: 15px !important;\n",
        "    }\n",
        "    div.cell {\n",
        "        margin-left: auto;\n",
        "        margin-right: auto;\n",
        "        width: 70%;\n",
        "    }    \n",
        "    div.cell.selected {\n",
        "        border: thin rgba(171, 171, 171, 0.5) dashed;\n",
        "    }\n",
        "    h1 {\n",
        "        font-family: 'Alegreya Sans', sans-serif;\n",
        "    }\n",
        "    h2 {\n",
        "        font-family: 'EB Garamond', serif;\n",
        "    }\n",
        "    h3 {\n",
        "        font-family: 'EB Garamond', serif;\n",
        "        margin-top:12px;\n",
        "        margin-bottom: 3px;\n",
        "    }\n",
        "    h4 {\n",
        "        font-family: 'EB Garamond', serif;\n",
        "    }\n",
        "    h5 {\n",
        "        font-family: 'Alegreya Sans', sans-serif;\n",
        "    }\n",
        "    div.text_cell_render {\n",
        "        font-family: 'EB Garamond',Computer Modern, \"Helvetica Neue\", Arial, Helvetica, Geneva, sans-serif;\n",
        "        line-height: 145%;\n",
        "        font-size: 140%;\n",
        "    }\n",
        "    div.input_area {\n",
        "        border-color: rgba(0,0,0,0.10) !important;\n",
        "        background: #fafafa;\n",
        "    }\n",
        "    .CodeMirror {\n",
        "            font-family: \"Source Code Pro\";\n",
        "            font-size: 90%;\n",
        "    }\n",
        "    .prompt {\n",
        "        display: None;\n",
        "    }\n",
        "    .output {\n",
        "        padding-left: 50px;\n",
        "        padding-top: 5px;\n",
        "    }\n",
        "    .output_wrapper {\n",
        "        padding-left: 5px;\n",
        "        padding-top: inherit;\n",
        "    }\n",
        "    div.output_scroll {\n",
        "        width: inherit;\n",
        "    }\n",
        "    .inner_cell {\n",
        "        padding-left: 5px;\n",
        "    }\n",
        "    .text_cell_render h1 {\n",
        "        font-weight: 200;\n",
        "        font-size: 50pt;\n",
        "        line-height: 100%;\n",
        "        color:#CD2305;\n",
        "        margin-bottom: 0.5em;\n",
        "        margin-top: 0.5em;\n",
        "        display: block;\n",
        "    }\n",
        "    .text_cell_render h5 {\n",
        "        font-weight: 300;\n",
        "        font-size: 16pt;\n",
        "        color: #CD2305;\n",
        "        font-style: italic;\n",
        "        margin-bottom: .5em;\n",
        "        margin-top: 0.5em;\n",
        "        display: block;\n",
        "    }\n",
        "    .warning {\n",
        "        color: rgb( 240, 20, 20 )\n",
        "        }  \n",
        "</style>\n",
        "<script>\n",
        "    MathJax.Hub.Config({\n",
        "                        TeX: {\n",
        "                           extensions: [\"AMSmath.js\"]\n",
        "                           },\n",
        "                tex2jax: {\n",
        "                    inlineMath: [ ['$','$'], [\"\\\\(\",\"\\\\)\"] ],\n",
        "                    displayMath: [ ['$$','$$'], [\"\\\\[\",\"\\\\]\"] ]\n",
        "                },\n",
        "                displayAlign: 'center', // Change this to 'center' to center equations.\n",
        "                \"HTML-CSS\": {\n",
        "                    styles: {'.MathJax_Display': {\"margin\": 4}}\n",
        "                }\n",
        "        });\n",
        "</script>"
       ],
       "metadata": {},
       "output_type": "pyout",
       "prompt_number": 21,
       "text": [
        "<IPython.core.display.HTML at 0x1b837fd0>"
       ]
      }
     ],
     "prompt_number": 21
    }
   ],
   "metadata": {}
  }
 ]
}